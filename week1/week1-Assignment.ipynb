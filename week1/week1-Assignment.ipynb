{
 "cells": [
  {
   "cell_type": "code",
   "execution_count": 35,
   "id": "9a187681-4c84-499c-b2ce-8f2a58313200",
   "metadata": {},
   "outputs": [],
   "source": [
    "import requests \n",
    "from elasticsearch import Elasticsearch\n",
    "from tqdm.auto import tqdm\n",
    "import json\n",
    "from groq import Groq\n",
    "import os"
   ]
  },
  {
   "cell_type": "code",
   "execution_count": 36,
   "id": "114c8ede-e21f-4551-8a0b-374c2b759944",
   "metadata": {},
   "outputs": [],
   "source": [
    "client = Groq(api_key=os.getenv(\"GROQ_API_KEY\"))\n"
   ]
  },
  {
   "cell_type": "raw",
   "id": "db893517-d734-44cd-bba8-ccea4a3e3141",
   "metadata": {},
   "source": [
    "Question 1"
   ]
  },
  {
   "cell_type": "code",
   "execution_count": 37,
   "id": "b0f346bf-d31d-481b-b393-03c48ac45a99",
   "metadata": {
    "scrolled": true
   },
   "outputs": [
    {
     "data": {
      "text/plain": [
       "ObjectApiResponse({'name': '33794009578d', 'cluster_name': 'docker-cluster', 'cluster_uuid': '-KNU-I60Qn-diTdA9ThUJw', 'version': {'number': '8.4.3', 'build_flavor': 'default', 'build_type': 'docker', 'build_hash': '42f05b9372a9a4a470db3b52817899b99a76ee73', 'build_date': '2022-10-04T07:17:24.662462378Z', 'build_snapshot': False, 'lucene_version': '9.3.0', 'minimum_wire_compatibility_version': '7.17.0', 'minimum_index_compatibility_version': '7.0.0'}, 'tagline': 'You Know, for Search'})"
      ]
     },
     "execution_count": 37,
     "metadata": {},
     "output_type": "execute_result"
    }
   ],
   "source": [
    "es = Elasticsearch(\"http://localhost:9200\")\n",
    "es.info()"
   ]
  },
  {
   "cell_type": "code",
   "execution_count": 38,
   "id": "e54f6c9c-677d-4110-aba1-7fa90c153b02",
   "metadata": {},
   "outputs": [],
   "source": [
    "with open('documents.json', 'rt') as f_in:\n",
    "    docs_raw = json.load(f_in)"
   ]
  },
  {
   "cell_type": "code",
   "execution_count": 58,
   "id": "b0e1513f-93a0-4185-81d5-dd610b5a4911",
   "metadata": {},
   "outputs": [
    {
     "data": {
      "text/plain": [
       "[{'course': 'llm-zoomcamp',\n",
       "  'documents': [{'text': 'Yes, but if you want to receive a certificate, you need to submit your project while we’re still accepting submissions.',\n",
       "    'section': 'General course-related questions',\n",
       "    'question': 'I just discovered the course. Can I still join?',\n",
       "    'course': 'llm-zoomcamp'},\n",
       "   {'text': \"You don't need it. You're accepted. You can also just start learning and submitting homework (while the form is Open) without registering. It is not checked against any registered list. Registration is just to gauge interest before the start date.\",\n",
       "    'section': 'General course-related questions',\n",
       "    'question': 'Course - I have registered for the [insert-zoomcamp-name]. When can I expect to receive the confirmation email?',\n",
       "    'course': 'llm-zoomcamp'},\n",
       "   {'text': 'The zoom link is only published to instructors/presenters/TAs.\\nStudents participate via Youtube Live and submit questions to Slido (link would be pinned in the chat when Alexey goes Live). The video URL should be posted in the announcements channel on Telegram & Slack before it begins. Also, you will see it live on the DataTalksClub YouTube Channel.\\nDon’t post your questions in chat as it would be off-screen before the instructors/moderators have a chance to answer it if the room is very active.',\n",
       "    'section': 'General course-related questions',\n",
       "    'question': 'What is the video/zoom link to the stream for the “Office Hours” or live/workshop sessions?',\n",
       "    'course': 'llm-zoomcamp'},\n",
       "   {'text': 'Issue: I get the notice that due to traffic, I’m on a waitlist for new signups.\\nAnswer: There was a form to submit our emails to, so Alexey can send it in bulk. If you missed that deadline, just sign up manually (or via request tech demo link) and use the chat to request for free hours for “llm zoomcamp”\\nIssue: I’m a pre-existing user from a different zoomcamp and I’m not awarded the free hours even though I’ve submitted my email in the form.\\nAnswer: Just request it via their chat, after you’ve logged in using your pre-existing account, citing “llm zoomcamp” .',\n",
       "    'section': 'General course-related questions',\n",
       "    'question': 'SaturnCloud - How do I get access?',\n",
       "    'course': 'llm-zoomcamp'},\n",
       "   {'text': 'We get 15 free hours per month, which might be limited to the free tier’s hardware configuration.',\n",
       "    'section': 'General course-related questions',\n",
       "    'question': 'SaturnCloud - How many free hours do we get?',\n",
       "    'course': 'llm-zoomcamp'},\n",
       "   {'text': 'This message means you have used all allocated hours. Make sure to set Shutout After in settings. Also, do not leave your notebooks running. If your hours are out, try using Google Colab and Kaggle.',\n",
       "    'section': 'General course-related questions',\n",
       "    'question': 'SaturnCloud - Something went wrong. Max of 15 hours of resource usage per month',\n",
       "    'course': 'llm-zoomcamp'},\n",
       "   {'text': 'Check the quota and reset cycle carefully - is the free hours per month or per week? Usually if you change the configuration, the free hours quota might also be adjusted,or it might be billed separately.\\nGoogle Colab\\nKaggle\\nDatabricks (?), so many others.\\nUse GPTs to find out. Some might have restrictions on what you can and cannot install, so be sure to read what is included in a free vs paid tier.',\n",
       "    'section': 'General course-related questions',\n",
       "    'question': 'Cloud alternatives with GPU',\n",
       "    'course': 'llm-zoomcamp'},\n",
       "   {'text': 'When you set up your account you are automatically assigned a random name such as “Lucid Elbakyan” for example. Click on the Jump to your record on the leaderboard link to find your entry.\\nIf you want to see what your Display name is, click on the Edit Course Profile button.\\nFirst field is your nickname/displayed-name, change it if you want to be known as your Slack username or Github username or whatever nickname of your choice, if you want to remain anonymous.\\nUnless you want “Lucid Elbakyan” on your certificate, it is mandatory that you change the second field to your official name as in your identification documents - passport, national ID card, driver’s license, etc. This is the name that is going to appear on your Certificate!',\n",
       "    'section': 'General course-related questions',\n",
       "    'question': 'Leaderboard - I am not on the leaderboard / how do I know which one I am on the leaderboard?',\n",
       "    'course': 'llm-zoomcamp'},\n",
       "   {'text': \"No, you can only get a certificate if you finish the course with a “live” cohort.\\nWe don't award certificates for the self-paced mode. The reason is you need to peer-review 3 capstone(s) after submitting your own project.\\nYou can only peer-review projects at the time the course is running; after the form is closed and the peer-review list is compiled.\",\n",
       "    'section': 'General course-related questions',\n",
       "    'question': 'Certificate - Can I follow the course in a self-paced mode and get a certificate?',\n",
       "    'course': 'llm-zoomcamp'},\n",
       "   {'text': 'Yes, you need to pass the Capstone project to get the certificate. Homework is not mandatory, though it is recommended for reinforcing concepts, and the points awarded count towards your rank on the leaderboard.',\n",
       "    'section': 'General course-related questions',\n",
       "    'question': 'I missed the first homework - can I still get a certificate?',\n",
       "    'course': 'llm-zoomcamp'},\n",
       "   {'text': 'This course is being offered for the first time, and things will keep changing until a given module is ready, at which point it shall be announced. Working on the material/homework in advance will be at your own risk, as the final version could be different.',\n",
       "    'section': 'General course-related questions',\n",
       "    'question': 'I was working on next week’s homework/content - why does it keep changing?',\n",
       "    'course': 'llm-zoomcamp'},\n",
       "   {'text': 'Summer 2025 (via Alexey).',\n",
       "    'section': 'General course-related questions',\n",
       "    'question': 'When will the course be offered next?',\n",
       "    'course': 'llm-zoomcamp'},\n",
       "   {'text': 'Please check the bookmarks and pinned links, especially DataTalks.Club’s YouTube account.',\n",
       "    'section': 'General course-related questions',\n",
       "    'question': 'Are there any lectures/videos? Where are they?',\n",
       "    'course': 'llm-zoomcamp'},\n",
       "   {'text': 'Your WSL2 is set to use Y.Y GiB, not all your computer memory. Create .wslconfig file under your Windows user profile directory (C:\\\\Users\\\\YourUsername\\\\.wslconfig) with the desired RAM allocation:\\n[wsl2]\\nmemory=8GB\\nRestart WSL: wsl --shutdown\\nRun the free command to verify the changes. For more details, read this article.',\n",
       "    'section': 'Module 1: Introduction',\n",
       "    'question': 'WSL2 - ResponseError: model requires more system memory (X.X GiB) than is available (Y.Y GiB). My system has more than X.X GiB.',\n",
       "    'course': 'llm-zoomcamp'},\n",
       "   {'text': 'You may receive the following error when running the OpenAI chat.completions.create command due to insufficient credits in your OpenAI account:',\n",
       "    'section': 'Module 1: Introduction',\n",
       "    'question': 'OpenAI: Error when running OpenAI chat.completions.create command',\n",
       "    'course': 'llm-zoomcamp'},\n",
       "   {'text': \"RateLimitError: Error code: 429 - {'error': {'message': 'You exceeded your current quota, please check your plan and billing details. For more information on this error, read the docs: https://platform.openai.com/docs/guides/error-codes/api-errors.', 'type': 'insufficient_quota', 'param': None, 'code': 'insufficient_quota'}\\nThe above errors are related to your OpenAI API account’s quota.\\nThere is no free usage of OpenAI’s API so you will be required to add funds using a credit card (see pay as you go in the OpenAI settings at platform.openai.com). Once added, re-run your python command and you should receive a successful return code.\\nSteps to resolve:\\nAdd credits to your account here (min $5)\\nIn chat.completions.create(model='gpt-4o', …) specify one of the available for you models:\\nYou might need to recreate an API key after adding credits to your account and update it locally.\",\n",
       "    'section': 'Module 1: Introduction',\n",
       "    'question': 'OpenAI: Error: RateLimitError: Error code: 429 -',\n",
       "    'course': 'llm-zoomcamp'},\n",
       "   {'text': 'Update openai version from 0.27.0 -> any 1.x version',\n",
       "    'section': 'Module 1: Introduction',\n",
       "    'question': \"OpenAI: Error: 'Cannot import name OpenAI from openai'; How to fix?\",\n",
       "    'course': 'llm-zoomcamp'},\n",
       "   {'text': 'Using the Openai API does not cost much, you can recharge from 5 dollars. At least for what I spent on the first unit it was barely 5 cents.',\n",
       "    'section': 'Module 1: Introduction',\n",
       "    'question': 'OpenAI: How much will I have to spend to use the Open AI API?',\n",
       "    'course': 'llm-zoomcamp'},\n",
       "   {'text': \"No, you don't have to pay for this service in order to complete the course homeworks, you could use some of the alternatives free from this list posted into the course Github.\\nllm-zoomcamp/01-intro/open-ai-alternatives.md at main · DataTalksClub/llm-zoomcamp (github.com)\",\n",
       "    'section': 'Module 1: Introduction',\n",
       "    'question': 'OpenAI: Do I have to subscribe and pay for Open AI API for this course?',\n",
       "    'course': 'llm-zoomcamp'},\n",
       "   {'text': 'If you get this error, it’s likely that elasticsearch doesn’t get enough RAM\\nI specified the RAM size to the configuration (-m 4GB)\\ndocker run -it \\\\\\n--rm \\\\\\n--name elasticsearch \\\\\\n-m 4GB \\\\\\n-p 9200:9200 \\\\\\n-p 9300:9300 \\\\\\n-e \"discovery.type=single-node\" \\\\\\n-e \"xpack.security.enabled=false\" \\\\\\ndocker.elastic.co/elasticsearch/elasticsearch:8.4.3\\nOr give it _less_ RAM:\\nTip for Github Codespace users\\nIf you want to run elasticsearch server in a docker, then it may fail with the command in the documentation.\\nIn that case, you can try inserting this line -e \"ES_JAVA_OPTS=-Xms512m -Xmx512m\".\\nThis reduces the resource usage.\\nFull command:\\ndocker run -it \\\\\\n--rm \\\\\\n--name elasticsearch \\\\\\n-p 9200:9200 \\\\\\n-p 9300:9300 \\\\\\n-e \"discovery.type=single-node\" \\\\\\n-e \"xpack.security.enabled=false\" \\\\\\n-e \"ES_JAVA_OPTS=-Xms512m -Xmx512m\" \\\\\\ndocker.elastic.co/elasticsearch/elasticsearch:8.4.3\\nIf it doesn\\'t work, try this:\\nsudo sysctl -w vm.max_map_count=262144\\nAnd give the Java machine inside the container more RAM:\\ndocker run -it \\\\\\n--rm \\\\\\n--name elasticsearch \\\\\\n-p 9200:9200 \\\\\\n-p 9300:9300 \\\\\\n--ulimit nofile=65536:65536 \\\\\\n--ulimit memlock=-1:-1 \\\\\\n--memory=4g \\\\\\n--cpus=2 \\\\\\n-e \"discovery.type=single-node\" \\\\\\n-e \"xpack.security.enabled=false\" \\\\\\n-e \"ES_JAVA_OPTS=-Xms2g -Xmx2g\" \\\\\\ndocker.elastic.co/elasticsearch/elasticsearch:8.4.3\\nAnother possible solution may be to set the memory_lock to false:\\ndocker run -it \\\\\\n--rm \\\\\\n--name elasticsearch \\\\\\n-p 9200:9200 \\\\\\n-p 9300:9300 \\\\\\n-e \"discovery.type=single-node\" \\\\\\n-e \"xpack.security.enabled=false\" \\\\\\n-e \"ES_JAVA_OPTS=-Xms512m -Xmx512m\" \\\\\\n-e \"bootstrap.memory_lock=false\" \\\\\\ndocker.elastic.co/elasticsearch/elasticsearch:8.4.3',\n",
       "    'section': 'Module 1: Introduction',\n",
       "    'question': 'ElasticSearch: ERROR: Elasticsearch exited unexpectedly',\n",
       "    'course': 'llm-zoomcamp'},\n",
       "   {'text': 'Instead of document as used in the course video, use doc',\n",
       "    'section': 'Module 1: Introduction',\n",
       "    'question': \"ElasticSearch: ERROR: Elasticsearch.index() got an unexpected keyword argument 'document'\",\n",
       "    'course': 'llm-zoomcamp'},\n",
       "   {'text': 'When you stop the container, the data you previously added to elastic will be gone. To avoid it, we can add volume mapping:\\ndocker volume create elasticsearch_data\\ndocker run -it \\\\\\n--rm \\\\\\n--name elasticsearch \\\\\\n-p 9200:9200 \\\\\\n-p 9300:9300 \\\\\\n-v elasticsearch_data:/usr/share/elasticsearch/data \\\\\\n-e \"discovery.type=single-node\" \\\\\\n-e \"xpack.security.enabled=false\" \\\\\\ndocker.elastic.co/elasticsearch/elasticsearch:8.4.3',\n",
       "    'section': 'Module 1: Introduction',\n",
       "    'question': 'Docker: How do I store data persistently in Elasticsearch?',\n",
       "    'course': 'llm-zoomcamp'},\n",
       "   {'text': \"You can store your different API keys in a yaml file that you will add in your .gitignore file. Be careful to never push or share this file.\\nFor example, you can create a new file named “api_keys.yml” in your repository.\\nThen, do not forget to add it in your .gitignore file:\\n#api_keys\\napi_keys.yml\\nYou can now fill your api_keys.yml file:\\nOPENAI_API_KEY: “sk[...]”\\nGROQ_API_KEY: “gqk_[...]”\\nSave your file.\\nYou will need the pyyaml library to load your yaml file, so run this command in your terminal:\\npip install pyyaml\\nNow, open your jupyter notebook.\\nYou can load your yaml file and the associated keys with this code:\\nimport yaml\\n# Open the file\\nwith open('api_keys.yml', 'r') as file:\\n# Load the data from the file\\ndata = yaml.safe_load(file)\\n# Get the API key (Groq example here)\\ngroq_api_key = data['GROQ_API_KEY']\\nNow, you can easily replace the “api_key” value directly with the loaded values without loading your environment variables.\\nAdded by Mélanie Fouesnard\",\n",
       "    'section': 'Module 1: Introduction',\n",
       "    'question': 'Authentication: Safe and easy way to store and load API keys',\n",
       "    'course': 'llm-zoomcamp'},\n",
       "   {'text': 'Option1: using direnv\\ncreated the .envrc file & added my API key, ran direnv allow in the terminal\\nwas getting an error: \"OpenAIError: The api_key client option must be set either by passing api_key to the client or by setting the OPENAI_API_KEY environment variable\"\\nresolution: install dotenv & add the following to a cell in the notebook. You can install dotenv by running: pip install python-dotenv.\\nfrom dotenv import load_dotenv\\nload_dotenv(\\'.envrc\\')\\nOption 2: using Codespaces Secrets\\nLog in to your GitHub account and navigate to Settings > Codespaces\\nThere is a section called secrets where you can create Secrets like OPENAI_API_KEY and select for which repositories the secret is supposed to be available.\\nOnce you set this up, the key will be available in your codespaces session',\n",
       "    'section': 'Module 1: Introduction',\n",
       "    'question': 'Authentication: Why is my OPENAI_API_KEY not found in the jupyter notebook?',\n",
       "    'course': 'llm-zoomcamp'},\n",
       "   {'text': 'Prior to using Ollama models in llm-zoomcamp tasks, you need to have ollama installed on your pc and the relevant LLM model downloaded with ollama from https://www.ollama.com\\nTo download ollama for Ubuntu:\\n``` curl -fsSL https://ollama.com/install.sh | sh ```\\nTo download ollama for Mac and Windows, follow the guide on this link:\\nhttps://ollama.com/download/\\nOllama a number of open-source LLMs like:\\nLlama3\\nPhi3\\nMistral and Mixtral\\nGemma\\nQwen\\nYou can explore more models on https://ollama.com/library/\\nTo download a model in Ollama, simply open command prompt and type:\\n``` ollama run model_name ```\\ne.g.\\n``` ollama run phi3 ```\\nIt will automatically download the model and you can use it same way as above for later time.\\nTo use Ollama models for inference and llm-zoomcamp tasks, use the following function:\\nimport ollama\\ndef llm(prompt):\\nresponse = ollama.chat(\\nmodel=\"llama3\",\\nmessages=[{\"role\": \"user\", \"content\": prompt}]\\n)\\nreturn response[\\'message\\'][\\'content\\']\\nFor example, we can use it in the following way:\\nprompt = \"When does the llm-zoomcamp course start?\"\\nanswer = llm(prompt)\\nprint(answer)',\n",
       "    'section': 'Module 1: Introduction',\n",
       "    'question': 'OpenSource: How can I use Ollama open-source models locally on my pc without using any API?',\n",
       "    'course': 'llm-zoomcamp'},\n",
       "   {'text': \"The question asks for the number of tokens in gpt-4o model. tiktoken is a python library that can be used to get the number of tokens. You don't need openai api key to to get the number of tokens. You can use the code provided in the question to get the number of tokens.\",\n",
       "    'section': 'Module 1: Introduction',\n",
       "    'question': \"OpenSource: I am using Groq, and it doesn't provide a tokenizer library based on my research. How can we estimate the number of OpenAI tokens asked in homework question 6?\",\n",
       "    'course': 'llm-zoomcamp'},\n",
       "   {'text': 'You can use any LLM platform for your experiments and your project. Also, the homework is designed in such a way that you don’t need to have access to any paid services and can do it locally. However, you would need to adjust the code for that platform. See their documentation pages.',\n",
       "    'section': 'Module 1: Introduction',\n",
       "    'question': 'OpenSource: Can I use Groq instead of OpenAI?',\n",
       "    'course': 'llm-zoomcamp'},\n",
       "   {'text': 'Yes. See module 2 and the open-ai-alternatives.md in module 1 folder.',\n",
       "    'section': 'Module 1: Introduction',\n",
       "    'question': 'OpenSource: Can I use open-source alternatives to OpenAI API?',\n",
       "    'course': 'llm-zoomcamp'},\n",
       "   {'text': 'This is likely to be an error when indexing the data. First you need to add the index settings before adding the data to the indices, then you will be good to go applying your filters and query.',\n",
       "    'section': 'Module 1: Introduction',\n",
       "    'question': 'Returning Empty list after filtering my query (HW Q3)',\n",
       "    'course': 'llm-zoomcamp'},\n",
       "   {'text': 'Answer',\n",
       "    'section': 'Module 2: Open-Source LLMs',\n",
       "    'question': 'Question',\n",
       "    'course': 'llm-zoomcamp'},\n",
       "   {'text': 'Please see the General section or use CTRL+F to search this doc.',\n",
       "    'section': 'Module 2: Open-Source LLMs',\n",
       "    'question': 'Saturn Cloud issues',\n",
       "    'course': 'llm-zoomcamp'},\n",
       "   {'text': 'Of course you should have first added your Github repository in SaturnCloud and the SSH Key in your Github account settings.\\nOnce you are in jupyter notebook from SaturnCloud, open the terminal and write these lines:\\n1- Navigate to Your Project Directory:\\ncd /home/jovyan/my_project\\n2- Configure GitHub Remote to Use SSH:\\ngit remote set-url origin git@github.com:username/repository.git\\n3- Stage, Commit and push your changes:\\ngit add .\\ngit commit -m \"Your commit message\"\\ngit push',\n",
       "    'section': 'Module 2: Open-Source LLMs',\n",
       "    'question': 'SaturnCloud: How do you manage the changes from SaturnCloud to your Github repository?',\n",
       "    'course': 'llm-zoomcamp'},\n",
       "   {'text': 'Clean out your cache using the following code:\\nfrom transformers import TRANSFORMERS_CACHE\\nprint(TRANSFORMERS_CACHE)\\nimport shutil\\nshutil.rmtree(TRANSFORMERS_CACHE)\\nNote: Make sure to shutdown the notebook and restart the kernel',\n",
       "    'section': 'Module 2: Open-Source LLMs',\n",
       "    'question': 'SaturnCloud: How can I clean out the hugging face model cache on a saturn cloud notebook?',\n",
       "    'course': 'llm-zoomcamp'},\n",
       "   {'text': 'Yes, you can. Here the step to follow:\\n- Open a bash session in the elasticsearch container\\n```bash\\ndocker exec -it elasticsearch bash\\n```\\n- Add path.repo configuration:\\n```bash\\necho path.repo: [\"/usr/share/elasticsearch/backup\"] >> /usr/share/elasticsearch/config/elasticsearch.yml\\n```\\n- Restart container and verify it was created correctly:\\n```bash\\ndocker restart elasticsearch\\ncurl -X GET \"localhost:9200/_snapshot/my_backup?pretty\"\\n```\\n- Create the snapshot (this is the backup ;) )\\n```bash\\ncurl -X PUT \"localhost:9200/_snapshot/my_backup/snapshot_1?wait_for_completion=true\" -H \\'Content-Type: application/json\\' -d\\'\\n{\\n\"indices\": \"your_index_name\",\\n\"ignore_unavailable\": true,\\n\"include_global_state\": false\\n}\\n\\'\\n```\\n- Copy the backup to my machine:\\n```bash\\ndocker cp elasticsearch:/usr/share/elasticsearch/backup /path/to/local\\n```\\n- Now create the new container or use docker-compose just in case you are following the module 2:\\n```bash\\ndocker compose up -d\\n```\\n- Add de path.repo configuration in the new one, same as before:\\n```bash\\ndocker exec -it new_elasticsearch bash\\necho path.repo: [\"/usr/share/elasticsearch/backup\"] >> /usr/share/elasticsearch/config/elasticsearch.yml\\n```\\n- Restart the docker container and copy the snapshot in it:\\n```bash\\ndocker restart new_elasticsearch\\ndocker cp /path/to/local/backup new_elasticsearch:/usr/share/elasticsearch\\n```\\n- Register the Snapshot Repository in the New Container:\\n```bash\\ncurl -X PUT \"localhost:9200/_snapshot/my_backup\" -H \\'Content-Type: application/json\\' -d\\'\\n{\\n\"type\": \"fs\",\\n\"settings\": {\\n\"location\": \"/usr/share/elasticsearch/backup\"\\n}\\n}\\n\\'\\n```\\n- Verify if it exists:\\n```bash\\ncurl -X GET \"localhost:9200/_snapshot/my_backup/snapshot_1?pretty\"\\n```\\n- Restore the snapshot:\\n```bash\\ncurl -X POST \"localhost:9200/_snapshot/my_backup/snapshot_1/_restore\" -H \\'Content-Type: application/json\\' -d\\'\\n{\\n\"indices\": \"your_index_name\",\\n\"ignore_unavailable\": true,\\n\"include_global_state\": false\\n}\\n\\'\\n```\\n- Show your indexes:\\n```bash\\ncurl -X GET \"localhost:9200/_cat/indices?v\"\\n```\\n- Extra point: If you want to change the original index name by other when you restore the snapshot:\\n```bash\\ncurl -X POST \"localhost:9200/_snapshot/my_backup/snapshot_1/_restore?pretty\" -H \\'Content-Type: application/json\\' -d\\'\\n{\\n\"indices\": \"old_index\",\\n\"ignore_unavailable\": true,\\n\"include_global_state\": false,\\n\"rename_pattern\": \"old_index\",\\n\"rename_replacement\": \"new_index\"\\n}\\n\\'\\n```',\n",
       "    'section': 'Module 2: Open-Source LLMs',\n",
       "    'question': 'ElasticSearch: Can I backup and restore my elasticsearch index from one to another docker container?',\n",
       "    'course': 'llm-zoomcamp'},\n",
       "   {'text': 'You can limit the amount of memory used in the ElasticSearch container by adding the next line to the environment section of your docker-compose. Choose the amount of your preference, e.g.:\\n- \"ES_JAVA_OPTS=-Xms1g -Xmx1g\"  # Set Java heap size to 1GB\\n- You can limit CPU usage for an Elasticsearch service within a docker-compose.yaml file, you can utilize the resource configuration options available in Docker Compose. This includes cpus to limit the number of CPUs that the container can utilize. You can configure your Elasticsearch section in the docker-compose.yaml to restrict CPU usage:\\nservices:\\nelasticsearch:\\nimage: docker.elastic.co/elasticsearch/elasticsearch:8.4.3\\ncontainer_name: elasticsearch\\nenvironment:\\n- discovery.type=single-node\\n- xpack.security.enabled=false\\nports:\\n- \"9200:9200\"\\n- \"9300:9300\"\\ndeploy:\\nresources:\\nlimits:\\ncpus: \\'1.0\\'  # Limits to 1 CPU\\nreservations:\\ncpus: \\'0.5\\'  # Reserves 0.5 CPUs',\n",
       "    'section': 'Module 2: Open-Source LLMs',\n",
       "    'question': 'ElasticSearch: How can I limit the memory used by the ElasticSearch container?',\n",
       "    'course': 'llm-zoomcamp'},\n",
       "   {'text': 'You have several ways to inspect the content of a file when you are inside a Docker container.\\nFirst, make sure you ran the docker container interactively using bash:\\ndocker exec -it <container> bash\\nThen, you are able to use bash commands. For this case, I propose two solutions:\\nUse “cat” and the file you want to see the content: cat your_file . This will directly print the content in your terminal.\\nInstall vim or nano using apt get and open the file using vim or nano (this can be more suitable for larger files):\\napt-get install vim\\nvim your_file\\nThen, you can exit your file in vim by pressing ESC then typing “:q” and finally press ENTER\\nAdded by Mélanie Fouesnard',\n",
       "    'section': 'Module 2: Open-Source LLMs',\n",
       "    'question': 'Docker: How to inspect the content of a file inside a Docker container ?',\n",
       "    'course': 'llm-zoomcamp'},\n",
       "   {'text': 'Use the following line instead in mounting the current volume to docker for Q4:\\n`-v \"/${PWD}/ollama_files:/root/.ollama\"`',\n",
       "    'section': 'Module 2: Open-Source LLMs',\n",
       "    'question': 'Docker: Error: Docker mounted volume adds ;C to end of windows path',\n",
       "    'course': 'llm-zoomcamp'},\n",
       "   {'text': 'In Docker Desktop, try to increase the resource.\\nGo to the Dashboard > Settings > Resources. Raise the memory limit to 15GB and swap to 4GB - be generous. Applied and restarted the changes\\nAdded by Dandy Arif Rahman',\n",
       "    'section': 'Module 2: Open-Source LLMs',\n",
       "    'question': 'Docker: Why does inferring using Phi 3 locally take so long on Macbook Air M1?',\n",
       "    'course': 'llm-zoomcamp'},\n",
       "   {'text': 'docker system prune -a',\n",
       "    'section': 'Module 2: Open-Source LLMs',\n",
       "    'question': 'Docker: How can to clean docker cache?',\n",
       "    'course': 'llm-zoomcamp'},\n",
       "   {'text': 'A network connection failure usually causes this error and if you try to repeat the operation immediately it’ll still fail. It’s a temporary error, you should wait for 2 or 3 minutes before attempting to pull the model again. Then some minutes later, the operation will success.\\nAdded by Eduardo Muñoz',\n",
       "    'section': 'Module 2: Open-Source LLMs',\n",
       "    'question': 'Ollama: “Error: pull model manifest: 503: no healthy upstream” when pulling a model with Ollama',\n",
       "    'course': 'llm-zoomcamp'},\n",
       "   {'text': 'To solve this you need to pull one of these models first: https://ollama.com/library . Also check the proper name of the module.\\nAdded by Taras Goriachko\\nOllama: Running Ollama locally on Colab gives error after the llm() line\\nAPIConnectionError: Connection error.\\nIt seems to be running at localhost:11434 however localhost:11434/v1/ gives 404\\nFound a solution in the Medium article and this link:\\nhttps://medium.com/@mauryaanoop3/running-ollama-on-google-colab-free-tier-a-step-by-step-guide-9ef74b1f8f7a\\nhttps://github.com/ollama/ollama/issues/703\\nAdded by Hanaa',\n",
       "    'section': 'Module 2: Open-Source LLMs',\n",
       "    'question': 'Ollama: Error: NotFoundError: Error code: 404 - {\\'error\\': {\\'message\\': \"model XXX not found, try pulling it first\" …',\n",
       "    'course': 'llm-zoomcamp'},\n",
       "   {'text': 'ollama list\\nollama rm [model_name]',\n",
       "    'section': 'Module 2: Open-Source LLMs',\n",
       "    'question': 'Ollama: How can remove Ollama model?',\n",
       "    'course': 'llm-zoomcamp'},\n",
       "   {'text': 'InternalServerError: Error code: 500 - {\\'error\\': {\\'message\\': \\'model requires more system memory (5.6 GiB) than is available (1.5 GiB)\\', \\'type\\': \\'api_error\\', \\'param\\': None, \\'code\\': None}}.\\nRunning elastic search with the docker-compose is the cause of the RAM memory issue. To fix this you need to change the docker-compose.yaml file to limit the RAM usage of elastic search\\nversion: \\'3.8\\'\\nservices:\\nelasticsearch:\\nimage: docker.elastic.co/elasticsearch/elasticsearch:8.4.3\\ncontainer_name: elasticsearch\\nenvironment:\\n- discovery.type=single-node\\n- xpack.security.enabled=false\\n- ES_JAVA_OPTS=-Xms1g -Xmx1g  # change 1\\nports:\\n- \"9200:9200\"\\n- \"9300:9300\"\\ndeploy:\\nresources:\\nlimits:\\nmemory: 2G  # change 2\\nollama:\\nimage: ollama/ollama\\ncontainer_name: ollama\\nvolumes:\\n- ollama:/root/.ollama\\nports:\\n- \"11434:11434\"\\nvolumes:\\nollama:\\nAdded by Zoe Zelkha',\n",
       "    'section': 'Module 2: Open-Source LLMs',\n",
       "    'question': 'Ollama: Error code 500 InternalServerError',\n",
       "    'course': 'llm-zoomcamp'},\n",
       "   {'text': 'Manually set the token as below:\\naccess_token = <your_token>\\nmodel  = AutoModelForCausalLM.from_pretrained(\"mistralai/Mistral-7B-v0.1\", token=access_token)\\ntokenizer = AutoTokenizer.from_pretrained(\"mistralai/Mistral-7B-v0.1\", token=access_token)',\n",
       "    'section': 'Module 2: Open-Source LLMs',\n",
       "    'question': 'Mistral AI: Unable to get Mistral-7B-v0.1 access despite accepting terms on HF',\n",
       "    'course': 'llm-zoomcamp'},\n",
       "   {'text': 'To solve just install transformers directly from github\\n!pip install git+https://github.com/huggingface/transformers',\n",
       "    'section': 'Module 2: Open-Source LLMs',\n",
       "    'question': \"Python: Error: ModuleNotFoundError: No module named 'transformers.cache_utils'\",\n",
       "    'course': 'llm-zoomcamp'},\n",
       "   {'text': 'To solve just install transformers directly from github\\n!pip install git+https://github.com/huggingface/transformers',\n",
       "    'section': 'Module 2: Open-Source LLMs',\n",
       "    'question': 'Python: Exception: data did not match any variant of untagged enum PyPreTokenizerTypeWrapper at line 40 column 3',\n",
       "    'course': 'llm-zoomcamp'},\n",
       "   {'text': 'pip install protobuf==3.20.1\\nAdded by Ibai Irastorza',\n",
       "    'section': 'Module 2: Open-Source LLMs',\n",
       "    'question': 'Python: from google.protobuf.pyext import _message / TypeError: bases must be types',\n",
       "    'course': 'llm-zoomcamp'},\n",
       "   {'text': '1. search with the model name on hugging face.\\n2. get the transformer used on the model.\\n3. using the transformer, encode the string you want.\\n4. calculate the length of the outputted tensor.\\nThe previous code snippet uses the tokenizer of google/gemma-2b LLM. \\nDon’t forget to make your token secret.\\nAdded by kamal',\n",
       "    'section': 'Module 2: Open-Source LLMs',\n",
       "    'question': 'HuggingFace: How to get the number of tokens in a certain string related to a certain model on hugging face?',\n",
       "    'course': 'llm-zoomcamp'},\n",
       "   {'text': 'The last version I checked for CUDA was 12.5 using a cloud environment like Saturn Cloud. Then the torch package for python should be on supported for that version of CUDA, is followed by cu121 which means that version of torch supports cuda 12.1. Check this page to find the package and version available for CUDA (remember to search the keyword “cu”\\nIn my case I focused on using a torch==2.3.1 and the last cuda version supported was 12.1 (it works on Saturn Cloud)\\nTo install all the needed packages use this command:\\n!pip install transformers accelerate torch==2.3.1+cu121 torchvision==0.18.1+cu121 torchaudio==2.3.1+cu121 --trusted-host download.pytorch.org --index-url https://download.pytorch.org/whl/cu121\\nAnd after that just executed this command:\\n!pip install --upgrade transformers',\n",
       "    'section': 'Module 3: X',\n",
       "    'question': 'How to run a model using CUDA for GPU usage?',\n",
       "    'course': 'llm-zoomcamp'},\n",
       "   {'text': 'Upgrade elasticsearch 7.13.3 to 8.14.0 or any 7.x installation to 8.x. The earlier modules used a docker image of elasticsearch 8.4.3 so the python installation of elasticsearch must also be at least 8.x.\\nOr use the keyword ‘body’ instead of ‘document’\\nFor conda users, if you’re trying to update to elasticsearch 8.x using conda install elasticsearch==8.4.3  but getting a “PackagesNotFoundError\", try this:\\n\\n$ conda config --add channels conda-forge\\n$ conda config --set channel_priority strict\\n$ conda install -c conda-forge elasticsearch==8.4.3',\n",
       "    'section': 'Module 3: X',\n",
       "    'question': \"ElasticSearch: Error: Elasticsearch.index() got an unexpected keyword argument 'document'\",\n",
       "    'course': 'llm-zoomcamp'},\n",
       "   {'text': 'This worked for me:',\n",
       "    'section': 'Module 3: X',\n",
       "    'question': \"ElasticSearch: TypeError: Elasticsearch.search() got an unexpected keyword argument 'knn'\",\n",
       "    'course': 'llm-zoomcamp'},\n",
       "   {'text': 'Try to running docker container based on first course module like this :\\ndocker run -it \\\\\\n--rm \\\\\\n--name elasticsearch \\\\\\n-p 9200:9200 \\\\\\n-p 9300:9300 \\\\\\n-e \"discovery.type=single-node\" \\\\\\n-e \"xpack.security.enabled=false\" \\\\\\ndocker.elastic.co/elasticsearch/elasticsearch:8.4.3\\nAnd don’t forget to forwarding your port 9200 if you’re using github codespace or run locally in vscode',\n",
       "    'section': 'Module 3: X',\n",
       "    'question': 'ElasticSearch: ConnectionError: Connection error caused by: ConnectionError(Connection error caused by: NewConnectionError(<urllib3.connection.HTTPConnection object at 0x7c455bb94ac0>: Failed to establish a new connection: [Errno 111] Connection refused)) in elastic search',\n",
       "    'course': 'llm-zoomcamp'},\n",
       "   {'text': 'As seen in this video: https://www.youtube.com/watch?v=ptByfB_YcEg&t=102s, we can get scores on obtained hits that are greater than 1 despite having a “cosine” similarity measure in our index settings. We would thus expect scores between -1 and 1. However, in the case of the final query, we have several scores additionned together to provide the final score:\\nThe KNN related score, which is between -1 and 1 (cosine similarity)\\nThe text relevance score:  BM25 algorithm scores which can be any positive number, including above 1. This is a “ranking function which calculates score to represent a document\\'s relevance with respect to query” (source: https://stackoverflow.com/questions/43794749/what-is-bm25-and-why-elasticsearch-chose-this-algorithm-for-scoring-in-version-5).\\nSince we have a “match” filter in our query, this triggers the usage of the BM25 ranking algorithm and the final score contains this information.\\nTo get more details about the final scores, you can modify the search query and add an “explain” parameter:\\nresponse = es_client.search(\\nindex=index_name,\\nquery={\\n\"match\": {\"section\": \"General course-related questions\"},\\n},\\nknn=knn_query,\\nsize=5,\\nexplain=True\\n)\\nAdded by Mélanie Fouesnard',\n",
       "    'section': 'Module 3: X',\n",
       "    'question': 'Why do I get scores greater than 1 on my hits after querying my ElasticSearch database ?',\n",
       "    'course': 'llm-zoomcamp'},\n",
       "   {'text': 'For this module homework make sure you install the package sentence-transformers it can be installed as simply as:\\npip install sentence-transformers',\n",
       "    'section': 'Module 3: X',\n",
       "    'question': 'Not module named “sentence_transformers”',\n",
       "    'course': 'llm-zoomcamp'},\n",
       "   {'text': 'I was getting this error at this step: es_client.indices.create(index=index_name, body=index_settings)\\nI checked the log of the elasticsearch server and running this command, the status was red: curl -X GET \"http://localhost:9200/_cluster/health?pretty\"\\nMy problem was that I did not have enough disk space in my computer for docker images. I ended up removing unused ones, manually and pruning:\\ndocker image prune\\ndocker volume prune\\ndocker container prune\\nAdded by Ibai Irastorza',\n",
       "    'section': 'Module 3: X',\n",
       "    'question': 'Can not create the index: Connection timeout.',\n",
       "    'course': 'llm-zoomcamp'},\n",
       "   {'text': 'Make sure your search function receives a query vector, not a dictionary. To resolve this, ensure that the q passed to the search_function within evaluate is correctly transformed into an embedding vector. The following code can help:\\nv_query = embedding_model.encode(query_text)\\nresults = search_function(v_query)',\n",
       "    'section': 'Module 3: X',\n",
       "    'question': \"TypeError: unsupported operand type(s) for *: 'float' and 'dict' when running the vector search function within the evaluate function\",\n",
       "    'course': 'llm-zoomcamp'},\n",
       "   {'text': 'max_value = numpy_array.max()',\n",
       "    'section': 'Module 3: X',\n",
       "    'question': 'Find maximum of an numpy array (of any dimension):',\n",
       "    'course': 'llm-zoomcamp'},\n",
       "   {'text': 'Cosine similarity is a measure used to calculate the similarity between two non-zero vectors, often used in text analysis to determine how similar two documents are based on their content. This metric computes the cosine of the angle between two vectors, which are typically word counts or TF-IDF values of the documents. The cosine similarity value ranges from -1 to 1, where 1 indicates that the vectors are identical, 0 indicates that the vectors are orthogonal (no similarity), and -1 represents completely opposite vectors.',\n",
       "    'section': 'Module 3: X',\n",
       "    'question': 'What is the cosine similarity?',\n",
       "    'course': 'llm-zoomcamp'},\n",
       "   {'text': 'A “document” is a collection of fields, which are the key-value pairs that contain your data, that have been serialized as a JSON object.',\n",
       "    'section': 'Module 3: X',\n",
       "    'question': 'What are documents in ElasticSearch?',\n",
       "    'course': 'llm-zoomcamp'},\n",
       "   {'text': 'docker stop elasticsearch\\ndocker rm elasticsearch\\nHow to scale Elastic search scores from [0, 1] to [-1, 1] to compare its results with your own ones, example calculating ranks using dot_product metric ?\\nscore = (es_score - 0.5) * 2',\n",
       "    'section': 'Module 4: Monitoring',\n",
       "    'question': 'runing docker docker: Error response from daemon: Conflict. The container name \"/elasticsearch\" is already in use by container \"20467e6723d78ff2e4e9e0c9a8b9580c07f070e4c852d12c585b1d71aefd6665\". You have to remove (or rename) that container to be able to reuse that name. See \\'docker run --help\\'.',\n",
       "    'course': 'llm-zoomcamp'},\n",
       "   {'text': 'Upgrade `sentence-transformers` to v3.0.0>= e.x pip install sentence-transformers>=3.0.0 to avoid the warnings',\n",
       "    'section': 'Module 4: Monitoring',\n",
       "    'question': 'Warning: \\'model \"multi-qa-mpnet-base-dot-v1\" was made on sentence transformers v3.0.0 bet\\' how to suppress?',\n",
       "    'course': 'llm-zoomcamp'},\n",
       "   {'text': 'Solution 1 : Install Visual C++ Redistributable\\nSolution 2 : Install Visual Studio, not Visual Studio Code. Like in this depicted below and restart your system. For more details, please follow this link : https://discuss.pytorch.org/t/failed-to-import-pytorch-fbgemm-dll-or-one-of-its-dependencies-is-missing/201969',\n",
       "    'section': 'Module 4: Monitoring',\n",
       "    'question': 'In Windows OS : OSError: [WinError 126] The specified module could not be found. Error loading \"C:\\\\Users\\\\USER\\\\AppData\\\\Local\\\\Programs\\\\Python\\\\Python310\\\\lib\\\\site-packages\\\\torch\\\\lib\\\\fbgemm.dll\" or one of its dependencies.',\n",
       "    'course': 'llm-zoomcamp'},\n",
       "   {'text': 'Inside .env file change POSTGRES_HOST=localhost',\n",
       "    'section': 'Module 4: Monitoring',\n",
       "    'question': 'OperationalError when running python prep.pypsycopg2. OperationalError: could not translate host name \"postgres\" to address: No such host is known. How do I fix this issue?',\n",
       "    'course': 'llm-zoomcamp'},\n",
       "   {'text': 'By default, in the dataframe visualization, Pandas truncate the text content in a column to 50 characters. In order to view the entire explanation given by the judge llm for a NON RELEVANT answer, as in figure:\\nThe instruction to show the results must be preceded by:\\npd.set_option(\\'display.max_colwidth\\', None)\\nHere are the specs for the display_max_colwidth option, as describide in the official docs:\\ndisplay.max_colwidth : int or None\\nThe maximum width in characters of a column in the repr of\\na pandas data structure. When the column overflows, a \"...\"\\nplaceholder is embedded in the output. A \\'None\\' value means unlimited.\\n[default: 50] [currently: 50]',\n",
       "    'section': 'Module 4: Monitoring',\n",
       "    'question': 'How set Pandas to show entire text content in a column. Useful to view the entire Explanation column content in the LLM-as-judge section of the offline-rag-evaluation notebook',\n",
       "    'course': 'llm-zoomcamp'},\n",
       "   {'text': 'import numpy as np\\nnormalize_vec = lambda v: v / np.linalg.norm(v)\\ndf[\"new_col\"] = df[\"org_col\"].apply(norm_vec)',\n",
       "    'section': 'Module 4: Monitoring',\n",
       "    'question': 'How to normalize vectors in a Pandas DataFrame column (or Pandas Series)?',\n",
       "    'course': 'llm-zoomcamp'},\n",
       "   {'text': 'To compute the 75% percentile or 0.75 quantile:\\nquantile: int = df[\"col\"].quantile(q=0.75)',\n",
       "    'section': 'Module 4: Monitoring',\n",
       "    'question': 'How to compute the quantile or percentile of Pandas DataFrame column (or Pandas Series)?',\n",
       "    'course': 'llm-zoomcamp'},\n",
       "   {'text': '1. Delete all containers (including running ones):\\n```\\ndocker rm -f\\n```\\n2. Remove all images:\\n```\\ndocker rmi -f\\n```\\n3. Delete all volumes:\\n```\\ndocker volume rm\\n```',\n",
       "    'section': 'Module 5: X',\n",
       "    'question': 'How can I remove all Docker containers, images, and volumes, and builds from the terminal?',\n",
       "    'course': 'llm-zoomcamp'},\n",
       "   {'text': 'Use the service name and port provided in the docker-compose.yaml file for the elasticsearch, e.g <http://><docker-compose-service-name>:<port> <http://elasticsearch:9200>',\n",
       "    'section': 'Module 5: X',\n",
       "    'question': \"I have reached the orchestration pipeline's export and I’m facing a connection error at the stage of exporting to the vector database. Can someone help with the connection string?\",\n",
       "    'course': 'llm-zoomcamp'},\n",
       "   {'text': 'Answer',\n",
       "    'section': 'Module 6: X',\n",
       "    'question': 'Question',\n",
       "    'course': 'llm-zoomcamp'},\n",
       "   {'text': 'Answer',\n",
       "    'section': 'Module 6: X',\n",
       "    'question': 'Question',\n",
       "    'course': 'llm-zoomcamp'},\n",
       "   {'text': 'Answer',\n",
       "    'section': 'Capstone Project',\n",
       "    'question': 'Question',\n",
       "    'course': 'llm-zoomcamp'},\n",
       "   {'text': 'No, the capstone is a solo project.',\n",
       "    'section': 'Capstone Project',\n",
       "    'question': 'Is it a group project?',\n",
       "    'course': 'llm-zoomcamp'},\n",
       "   {'text': 'You only need to submit 1 project. \\nIf the submission at the first attempt fails, you can improve it and re-submit during attempt#2 submission window.\\nIf you want to submit 2 projects for the experience and exposure, you must use different datasets and problem statements.\\nIf you can’t make it to the attempt#1 submission window, you still have time to catch up to meet the attempt#2 submission window\\nRemember that the submission does not count towards the certification if you do not participate in the peer-review of 3 peers in your cohort',\n",
       "    'section': 'Capstone Project',\n",
       "    'question': 'Do we submit 2 projects, what does attempt 1 and 2 mean?',\n",
       "    'course': 'llm-zoomcamp'},\n",
       "   {'text': 'No, it does not (answered in office hours Jul 1st, 2024). You can participate in the math-kaggle-llm-competition as a group if you want to form teams; but capstone is an individual attempt.',\n",
       "    'section': 'Capstone Project',\n",
       "    'question': 'Does the competition count as the capstone?',\n",
       "    'course': 'llm-zoomcamp'},\n",
       "   {'text': 'Each submitted project will be evaluated by 3 (three) randomly assigned students who have also submitted the project.\\nYou will also be responsible for grading the projects from 3 fellow students yourself. Please be aware that: not complying to this rule also implies you failing to achieve the Certificate at the end of the course.\\nThe final grade you get will be the median score of the grades you get from the peer reviewers.\\nAnd of course, the peer review criteria for evaluating or being evaluated must follow the guidelines defined here (TBA for link).',\n",
       "    'section': 'Capstone Project',\n",
       "    'question': 'How is my capstone project going to be evaluated?',\n",
       "    'course': 'llm-zoomcamp'},\n",
       "   {'text': 'Answer: No, you don’t have to use ElasticSearch. You can use any library you want. Just make sure it is documented so your peer-reviewers can reproduce your project.',\n",
       "    'section': 'Certificates',\n",
       "    'question': 'Do I have to use ElasticSearch or X library?',\n",
       "    'course': 'llm-zoomcamp'},\n",
       "   {'text': 'Answer',\n",
       "    'section': 'Workshops: dlthub',\n",
       "    'question': 'Question',\n",
       "    'course': 'llm-zoomcamp'},\n",
       "   {'text': 'Since dlt is open-source, we can use the content of this workshop for a capstone project. Since the main goal of dlt is to load and store data easily, we can even use it for other zoomcamps (mlops zoomcamp project for example). Do not hesitate to ask questions or use it directly in your projects.\\nAdded by Mélanie Fouesnard',\n",
       "    'section': 'Workshops: dlthub',\n",
       "    'question': 'Can I use the workshop materials for my own projects or share them with others?',\n",
       "    'course': 'llm-zoomcamp'},\n",
       "   {'text': 'The error indicates that you have not changed all instances of “employee_handbook” to “homework” in your pipeline settings',\n",
       "    'section': 'Workshops: dlthub',\n",
       "    'question': 'There is an error when opening the table using dbtable = db.open_table(\"notion_pages___homework\"): FileNotFoundError: Table notion_pages___homework does not exist.Please first call db.create_table(notion_pages___homework, data)',\n",
       "    'course': 'llm-zoomcamp'},\n",
       "   {'text': 'Make sure you open the correct table in line 3: dbtable = db.open_table(\"notion_pages___homework\")',\n",
       "    'section': 'Workshops: dlthub',\n",
       "    'question': 'There is an error when running main(): FileNotFoundError: Table notion_pages___homework does not exist.Please first call db.create_table(notion_pages___homework, data)',\n",
       "    'course': 'llm-zoomcamp'},\n",
       "   {'text': 'You can use the db.table_names() to list all the tables in the db',\n",
       "    'section': 'Workshops: dlthub',\n",
       "    'question': 'How do I know which tables are in the db',\n",
       "    'course': 'llm-zoomcamp'},\n",
       "   {'text': 'Currently, DLT does not have connectors for ClickHouse or StarRocks but are open to contributions from the community to add these connectors.',\n",
       "    'section': 'Workshops: dlthub',\n",
       "    'question': 'Does DLT have connectors to ClickHouse or StarRocks?',\n",
       "    'course': 'llm-zoomcamp'},\n",
       "   {'text': 'If you get this error\\nOr 401 Client Error , then you either need to grant access to the key or the key is wrong.',\n",
       "    'section': 'Workshops: dlthub',\n",
       "    'question': 'Notebook does not have secret access or 401 Client Error: Unauthorized for url: https://api.notion.com/v1/search',\n",
       "    'course': 'llm-zoomcamp'},\n",
       "   {'text': 'Install directly from source E.g `pip install \"requests @ https://github.com/psf/requests/archive/refs/tags/v2.32.3.zip\"`',\n",
       "    'section': 'Workshops: X',\n",
       "    'question': 'Error: How to fix requests library only installs v2.28 instead of v2.32 required for lancedb?',\n",
       "    'course': 'llm-zoomcamp'},\n",
       "   {'text': 'If you get this error while doing the homework , simply restart the ollama server using nohup y running this line of the notebook !nohup ollama serve > nohup.out 2>&1 &\\nIf you do stop and restart the cell, you will need to rerun the cell containing ollama serve first.\\nAdded by Abiodun Gbadamosi',\n",
       "    'section': 'Workshops: X',\n",
       "    'question': 'Connection refused error on prompting the ollam RAG?',\n",
       "    'course': 'llm-zoomcamp'},\n",
       "   {'text': 'Answer',\n",
       "    'section': 'Workshops: X',\n",
       "    'question': 'Question',\n",
       "    'course': 'llm-zoomcamp'}]}]"
      ]
     },
     "execution_count": 58,
     "metadata": {},
     "output_type": "execute_result"
    }
   ],
   "source": [
    "docs_raw"
   ]
  },
  {
   "cell_type": "code",
   "execution_count": 68,
   "id": "75f79a4c-5ff8-4677-956c-ed668228e845",
   "metadata": {
    "scrolled": true
   },
   "outputs": [
    {
     "name": "stdout",
     "output_type": "stream",
     "text": [
      "[{'text': 'Yes, but if you want to receive a certificate, you need to submit your project while we’re still accepting submissions.', 'section': 'General course-related questions', 'question': 'I just discovered the course. Can I still join?', 'course': 'llm-zoomcamp'}, {'text': \"You don't need it. You're accepted. You can also just start learning and submitting homework (while the form is Open) without registering. It is not checked against any registered list. Registration is just to gauge interest before the start date.\", 'section': 'General course-related questions', 'question': 'Course - I have registered for the [insert-zoomcamp-name]. When can I expect to receive the confirmation email?', 'course': 'llm-zoomcamp'}]\n"
     ]
    }
   ],
   "source": [
    "with open('documents.json', 'r', encoding='utf-8') as f_in:\n",
    "    documents_raw = json.load(f_in)\n",
    "\n",
    "documents = []\n",
    "\n",
    "# Same logic as the requests-based version\n",
    "for course in documents_raw:\n",
    "    course_name = course['course']\n",
    "    for doc in course['documents']:\n",
    "        doc['course'] = course_name\n",
    "        documents.append(doc)\n",
    "\n",
    "# Optional: Print first 2 entries to verify\n",
    "print(documents[:2])"
   ]
  },
  {
   "cell_type": "code",
   "execution_count": 70,
   "id": "c86a54d5-cfb5-49b6-8f65-2fdeecd96ca7",
   "metadata": {},
   "outputs": [
    {
     "name": "stderr",
     "output_type": "stream",
     "text": [
      "C:\\Users\\HP\\AppData\\Local\\Temp\\ipykernel_12780\\3519413687.py:38: DeprecationWarning: The 'body' parameter is deprecated and will be removed in a future version. Instead use individual parameters.\n",
      "  es.indices.create(index=index_name, body=index_settings)\n"
     ]
    },
    {
     "name": "stdout",
     "output_type": "stream",
     "text": [
      "Index 'assignments_questions_n' created.\n",
      "Indexed 86 documents into 'assignments_questions_n'\n"
     ]
    }
   ],
   "source": [
    "import json\n",
    "from elasticsearch import Elasticsearch\n",
    "\n",
    "# Initialize Elasticsearch client\n",
    "es = Elasticsearch(\"http://localhost:9200\")  # adjust if using cloud or different port\n",
    "\n",
    "# Load documents from local JSON file\n",
    "with open('documents.json', 'r', encoding='utf-8') as f_in:\n",
    "    documents_raw = json.load(f_in)\n",
    "\n",
    "# Flatten the documents\n",
    "documents = []\n",
    "for course in documents_raw:\n",
    "    course_name = course['course']\n",
    "    for doc in course['documents']:\n",
    "        doc['course'] = course_name\n",
    "        documents.append(doc)\n",
    "\n",
    "# Elasticsearch index settings\n",
    "index_name = 'assignments_questions_n'\n",
    "index_settings = {\n",
    "    \"settings\": {\n",
    "        \"number_of_shards\": 1,\n",
    "        \"number_of_replicas\": 0\n",
    "    },\n",
    "    \"mappings\": {\n",
    "        \"properties\": {\n",
    "            \"text\": {\"type\": \"text\"},\n",
    "            \"section\": {\"type\": \"text\"},\n",
    "            \"question\": {\"type\": \"text\"},\n",
    "            \"course\": {\"type\": \"keyword\"} \n",
    "        }\n",
    "    }\n",
    "}\n",
    "\n",
    "# Create the index only if it doesn't exist\n",
    "if not es.indices.exists(index=index_name):\n",
    "    es.indices.create(index=index_name, body=index_settings)\n",
    "    print(f\"Index '{index_name}' created.\")\n",
    "else:\n",
    "    print(f\"Index '{index_name}' already exists.\")\n",
    "\n",
    "# Index each document\n",
    "for i, doc in enumerate(documents):\n",
    "    es.index(index=index_name, document=doc, id=i)\n",
    "\n",
    "print(f\"Indexed {len(documents)} documents into '{index_name}'\")\n"
   ]
  },
  {
   "cell_type": "code",
   "execution_count": 63,
   "id": "8689209f-10a9-4043-a593-20146b59e045",
   "metadata": {},
   "outputs": [
    {
     "data": {
      "text/plain": [
       "{'text': 'Yes, but if you want to receive a certificate, you need to submit your project while we’re still accepting submissions.',\n",
       " 'section': 'General course-related questions',\n",
       " 'question': 'I just discovered the course. Can I still join?',\n",
       " 'course': 'llm-zoomcamp'}"
      ]
     },
     "execution_count": 63,
     "metadata": {},
     "output_type": "execute_result"
    }
   ],
   "source": [
    "documents[0]"
   ]
  },
  {
   "cell_type": "code",
   "execution_count": 71,
   "id": "b07caf07-1907-4b89-b736-df6a3d891c4c",
   "metadata": {},
   "outputs": [
    {
     "data": {
      "text/plain": [
       "ObjectApiResponse({'name': '33794009578d', 'cluster_name': 'docker-cluster', 'cluster_uuid': '-KNU-I60Qn-diTdA9ThUJw', 'version': {'number': '8.4.3', 'build_flavor': 'default', 'build_type': 'docker', 'build_hash': '42f05b9372a9a4a470db3b52817899b99a76ee73', 'build_date': '2022-10-04T07:17:24.662462378Z', 'build_snapshot': False, 'lucene_version': '9.3.0', 'minimum_wire_compatibility_version': '7.17.0', 'minimum_index_compatibility_version': '7.0.0'}, 'tagline': 'You Know, for Search'})"
      ]
     },
     "execution_count": 71,
     "metadata": {},
     "output_type": "execute_result"
    }
   ],
   "source": [
    "es.info()"
   ]
  },
  {
   "cell_type": "markdown",
   "id": "c156fb05-75d8-42f0-8dc2-b4845cd498c5",
   "metadata": {},
   "source": [
    "Question 2  = index"
   ]
  },
  {
   "cell_type": "code",
   "execution_count": 72,
   "id": "1da3e6b9-9d08-4204-9c58-b6218b89fbc9",
   "metadata": {},
   "outputs": [
    {
     "name": "stderr",
     "output_type": "stream",
     "text": [
      "100%|█████████████████████████████████████████████████████████████████████████████████████████████████████████████████████████████| 86/86 [00:26<00:00,  3.24it/s]\n"
     ]
    }
   ],
   "source": [
    "for doc in tqdm(documents):\n",
    "    es.index(index=index_name, document=doc)"
   ]
  },
  {
   "cell_type": "markdown",
   "id": "4f1b3a93-26ba-488b-967d-e8bcea53cea0",
   "metadata": {},
   "source": [
    "Question 3"
   ]
  },
  {
   "cell_type": "code",
   "execution_count": 73,
   "id": "8863685f-35c0-40b4-83ba-2eda55041668",
   "metadata": {},
   "outputs": [],
   "source": [
    "query = \"How do execute a command on a Kubernetes pod?\"\n"
   ]
  },
  {
   "cell_type": "code",
   "execution_count": 74,
   "id": "0e56c49f-d318-4420-89bc-fe252b4ece9b",
   "metadata": {},
   "outputs": [],
   "source": [
    "def elastic_search(query, course=\"machine-learning-zoomcamp\", size=3):\n",
    "    search_query = {\n",
    "        \"size\": size,\n",
    "        \"query\": {\n",
    "            \"bool\": {\n",
    "                \"must\": {\n",
    "                    \"multi_match\": {\n",
    "                        \"query\": query,\n",
    "                        \"fields\": [\"question^4\", \"text\"],\n",
    "                        \"type\": \"best_fields\"\n",
    "                    }\n",
    "                },\n",
    "                \"filter\": {\n",
    "                    \"term\": {\n",
    "                        \"course\": course\n",
    "                    }\n",
    "                }\n",
    "            }\n",
    "        }\n",
    "    }\n",
    "\n",
    "    response = es.search(index=index_name, body=search_query)\n",
    "\n",
    "    result_docs = [hit['_source'] for hit in response['hits']['hits']]\n",
    "\n",
    "    return {\n",
    "        \"result\": result_docs,\n",
    "        \"raw_response\": response\n",
    "    }\n"
   ]
  },
  {
   "cell_type": "code",
   "execution_count": 96,
   "id": "459157f5-9ac8-416e-8da8-b76619f7eaaa",
   "metadata": {},
   "outputs": [
    {
     "name": "stderr",
     "output_type": "stream",
     "text": [
      "C:\\Users\\HP\\AppData\\Local\\Temp\\ipykernel_12780\\2615058803.py:22: DeprecationWarning: The 'body' parameter is deprecated and will be removed in a future version. Instead use individual parameters.\n",
      "  response = es.search(index=index_name, body=search_query)\n"
     ]
    }
   ],
   "source": [
    "res = elastic_search(query=\"How do execute a command on a Kubernetes pod?\", course=\"llm-zoomcamp\")\n"
   ]
  },
  {
   "cell_type": "code",
   "execution_count": 99,
   "id": "79022f87-7286-4ec0-b91d-f27cb44ead5b",
   "metadata": {},
   "outputs": [
    {
     "data": {
      "text/plain": [
       "[{'text': '1. search with the model name on hugging face.\\n2. get the transformer used on the model.\\n3. using the transformer, encode the string you want.\\n4. calculate the length of the outputted tensor.\\nThe previous code snippet uses the tokenizer of google/gemma-2b LLM. \\nDon’t forget to make your token secret.\\nAdded by kamal',\n",
       "  'section': 'Module 2: Open-Source LLMs',\n",
       "  'question': 'HuggingFace: How to get the number of tokens in a certain string related to a certain model on hugging face?',\n",
       "  'course': 'llm-zoomcamp'},\n",
       " {'text': '1. search with the model name on hugging face.\\n2. get the transformer used on the model.\\n3. using the transformer, encode the string you want.\\n4. calculate the length of the outputted tensor.\\nThe previous code snippet uses the tokenizer of google/gemma-2b LLM. \\nDon’t forget to make your token secret.\\nAdded by kamal',\n",
       "  'section': 'Module 2: Open-Source LLMs',\n",
       "  'question': 'HuggingFace: How to get the number of tokens in a certain string related to a certain model on hugging face?',\n",
       "  'course': 'llm-zoomcamp'},\n",
       " {'text': 'You have several ways to inspect the content of a file when you are inside a Docker container.\\nFirst, make sure you ran the docker container interactively using bash:\\ndocker exec -it <container> bash\\nThen, you are able to use bash commands. For this case, I propose two solutions:\\nUse “cat” and the file you want to see the content: cat your_file . This will directly print the content in your terminal.\\nInstall vim or nano using apt get and open the file using vim or nano (this can be more suitable for larger files):\\napt-get install vim\\nvim your_file\\nThen, you can exit your file in vim by pressing ESC then typing “:q” and finally press ENTER\\nAdded by Mélanie Fouesnard',\n",
       "  'section': 'Module 2: Open-Source LLMs',\n",
       "  'question': 'Docker: How to inspect the content of a file inside a Docker container ?',\n",
       "  'course': 'llm-zoomcamp'}]"
      ]
     },
     "execution_count": 99,
     "metadata": {},
     "output_type": "execute_result"
    }
   ],
   "source": [
    "res['result']\n"
   ]
  },
  {
   "cell_type": "markdown",
   "id": "4e82698e-829e-42cf-840b-2d2b371093ab",
   "metadata": {},
   "source": [
    "QUESTION 5\n"
   ]
  },
  {
   "cell_type": "code",
   "execution_count": 89,
   "id": "2b9cc9ac-d6ed-41c9-a139-9135daf79f05",
   "metadata": {},
   "outputs": [
    {
     "data": {
      "text/plain": [
       "'Q: {question}\\nA: {text}'"
      ]
     },
     "execution_count": 89,
     "metadata": {},
     "output_type": "execute_result"
    }
   ],
   "source": [
    "context_template = \"\"\"\n",
    "Q: {question}\n",
    "A: {text}\n",
    "\"\"\".strip()\n",
    "\n",
    "context_template"
   ]
  },
  {
   "cell_type": "code",
   "execution_count": 90,
   "id": "5f8dd112-c76d-4985-87f2-4e270fad04fa",
   "metadata": {},
   "outputs": [
    {
     "name": "stdout",
     "output_type": "stream",
     "text": [
      "Q: Docker: How to inspect the content of a file inside a Docker container ?\n",
      "A: You have several ways to inspect the content of a file when you are inside a Docker container.\n",
      "First, make sure you ran the docker container interactively using bash:\n",
      "docker exec -it <container> bash\n",
      "Then, you are able to use bash commands. For this case, I propose two solutions:\n",
      "Use “cat” and the file you want to see the content: cat your_file . This will directly print the content in your terminal.\n",
      "Install vim or nano using apt get and open the file using vim or nano (this can be more suitable for larger files):\n",
      "apt-get install vim\n",
      "vim your_file\n",
      "Then, you can exit your file in vim by pressing ESC then typing “:q” and finally press ENTER\n",
      "Added by Mélanie Fouesnard\n",
      "\n",
      "Q: Docker: How to inspect the content of a file inside a Docker container ?\n",
      "A: You have several ways to inspect the content of a file when you are inside a Docker container.\n",
      "First, make sure you ran the docker container interactively using bash:\n",
      "docker exec -it <container> bash\n",
      "Then, you are able to use bash commands. For this case, I propose two solutions:\n",
      "Use “cat” and the file you want to see the content: cat your_file . This will directly print the content in your terminal.\n",
      "Install vim or nano using apt get and open the file using vim or nano (this can be more suitable for larger files):\n",
      "apt-get install vim\n",
      "vim your_file\n",
      "Then, you can exit your file in vim by pressing ESC then typing “:q” and finally press ENTER\n",
      "Added by Mélanie Fouesnard\n",
      "\n",
      "Q: runing docker docker: Error response from daemon: Conflict. The container name \"/elasticsearch\" is already in use by container \"20467e6723d78ff2e4e9e0c9a8b9580c07f070e4c852d12c585b1d71aefd6665\". You have to remove (or rename) that container to be able to reuse that name. See 'docker run --help'.\n",
      "A: docker stop elasticsearch\n",
      "docker rm elasticsearch\n",
      "How to scale Elastic search scores from [0, 1] to [-1, 1] to compare its results with your own ones, example calculating ranks using dot_product metric ?\n",
      "score = (es_score - 0.5) * 2\n"
     ]
    }
   ],
   "source": [
    "context_template = \"\"\"\n",
    "Q: {question}\n",
    "A: {text}\n",
    "\"\"\".strip()\n",
    "\n",
    "context_entries = []\n",
    "for record in res['result']:\n",
    "    context_entries.append(context_template.format(question=record[\"question\"], text=record[\"text\"]))\n",
    "\n",
    "# Join all context entries with two line breaks\n",
    "context = \"\\n\\n\".join(context_entries)\n",
    "\n",
    "# Print the final context\n",
    "print(context)"
   ]
  },
  {
   "cell_type": "code",
   "execution_count": 91,
   "id": "72d0da82-a90f-407a-a2ab-b8acb431aaba",
   "metadata": {},
   "outputs": [],
   "source": [
    "\"\"\"\"\n",
    "The question asks us to use this query: {\"How do I execute a command in a running docker container?\"}, \n",
    "but the exercise does not give the correct answer except we use the previous query: {\"How do copy a file to a Docker container?\"}.\n",
    "This should be corrected in the document.\n",
    "\"\"\"\n",
    "q = \"How to install docker container?\""
   ]
  },
  {
   "cell_type": "code",
   "execution_count": 92,
   "id": "162588e9-7ff4-4b24-a31b-46b9fb81bf17",
   "metadata": {},
   "outputs": [],
   "source": [
    "prompt_template = \"\"\"\n",
    "You're a course teaching assistant. Answer the QUESTION based on the CONTEXT from the FAQ database.\n",
    "Use only the facts from the CONTEXT when answering the QUESTION.\n",
    "\n",
    "QUESTION: {question}\n",
    "\n",
    "CONTEXT:\n",
    "{context}\n",
    "\"\"\".strip()"
   ]
  },
  {
   "cell_type": "code",
   "execution_count": 93,
   "id": "4af813b3-6c3b-483d-a276-0962cab64796",
   "metadata": {},
   "outputs": [
    {
     "name": "stdout",
     "output_type": "stream",
     "text": [
      "prompt length is: 2262\n"
     ]
    }
   ],
   "source": [
    "prompt = prompt_template.format(question=query, context=context)\n",
    "\n",
    "print(f\"prompt length is: {len(prompt)}\")"
   ]
  },
  {
   "cell_type": "code",
   "execution_count": null,
   "id": "d5228365-6a45-4d82-af23-b04be890c635",
   "metadata": {},
   "outputs": [],
   "source": []
  }
 ],
 "metadata": {
  "kernelspec": {
   "display_name": "Python 3 (ipykernel)",
   "language": "python",
   "name": "python3"
  },
  "language_info": {
   "codemirror_mode": {
    "name": "ipython",
    "version": 3
   },
   "file_extension": ".py",
   "mimetype": "text/x-python",
   "name": "python",
   "nbconvert_exporter": "python",
   "pygments_lexer": "ipython3",
   "version": "3.12.2"
  }
 },
 "nbformat": 4,
 "nbformat_minor": 5
}

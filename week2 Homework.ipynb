{
 "cells": [
  {
   "cell_type": "code",
   "execution_count": 12,
   "id": "fffa5a21-db4c-4341-aa2f-ecb7ab97ac39",
   "metadata": {},
   "outputs": [],
   "source": [
    "from qdrant_client import QdrantClient, models\n",
    "import minsearch\n",
    "from groq import Groq\n",
    "import json\n",
    "import os\n",
    "from qdrant_client.http.models import VectorParams, Distance, PointStruct, SearchRequest\n"
   ]
  },
  {
   "cell_type": "code",
   "execution_count": 14,
   "id": "13f89547-7680-4dae-90a0-5817319cd3b6",
   "metadata": {},
   "outputs": [],
   "source": [
    "client = Groq(api_key=os.getenv(\"GROQ_API_KEY\"))\n"
   ]
  },
  {
   "cell_type": "markdown",
   "id": "2aa933d3-535f-4620-aad2-c7da92c3d033",
   "metadata": {},
   "source": [
    "QUESTIION 1"
   ]
  },
  {
   "cell_type": "code",
   "execution_count": 8,
   "id": "e169e571-decc-458d-8a9c-8f63aeed9460",
   "metadata": {
    "scrolled": true
   },
   "outputs": [
    {
     "name": "stdout",
     "output_type": "stream",
     "text": [
      "Minimal value: -0.11726373885183883\n"
     ]
    }
   ],
   "source": [
    "from fastembed.embedding import TextEmbedding\n",
    "import numpy as np\n",
    "\n",
    "# Load the embedding model\n",
    "embedder = TextEmbedding(model_name=\"jinaai/jina-embeddings-v2-small-en\", cache_dir=\".cache\", threads=2)\n",
    "\n",
    "# Input query\n",
    "query = [\"I just discovered the course. Can I join now?\"]\n",
    "\n",
    "# Generate embedding (returns a generator, so convert to list)\n",
    "embedding = list(embedder.embed(query))[0]  # get first (and only) embedding\n",
    "\n",
    "# Convert to numpy array\n",
    "embedding_np = np.array(embedding)\n",
    "\n",
    "# Print minimal value\n",
    "min_val = np.min(embedding_np)\n",
    "print(\"Minimal value:\", min_val)\n"
   ]
  },
  {
   "cell_type": "code",
   "execution_count": 9,
   "id": "e9957b26-ed45-4f9b-97dd-e98a1b9945f9",
   "metadata": {},
   "outputs": [],
   "source": [
    "import numpy as np\n",
    "np.linalg.norm(query)"
   ]
  },
  {
   "cell_type": "markdown",
   "id": "b9011164-ad30-4224-972e-ed7706bc3a58",
   "metadata": {},
   "source": [
    "QUESTION 2"
   ]
  },
  {
   "cell_type": "code",
   "execution_count": 11,
   "id": "0368f5c2-d92f-4887-ab38-1a4ae862b6ae",
   "metadata": {},
   "outputs": [
    {
     "name": "stdout",
     "output_type": "stream",
     "text": [
      "Cosine similarity: 0.9008528895674548\n"
     ]
    }
   ],
   "source": [
    "from fastembed.embedding import TextEmbedding\n",
    "import numpy as np\n",
    "\n",
    "# Load model\n",
    "embedder = TextEmbedding(model_name=\"jinaai/jina-embeddings-v2-small-en\")\n",
    "\n",
    "# Define inputs\n",
    "query = [\"I just discovered the course. Can I join now?\"]\n",
    "doc = [\"Can I still join the course after the start date?\"]\n",
    "\n",
    "# Embed both\n",
    "query_vec = np.array(list(embedder.embed(query))[0])\n",
    "doc_vec = np.array(list(embedder.embed(doc))[0])\n",
    "\n",
    "# Compute cosine similarity\n",
    "cos_sim = np.dot(query_vec, doc_vec) / (np.linalg.norm(query_vec) * np.linalg.norm(doc_vec))\n",
    "print(\"Cosine similarity:\", cos_sim)\n"
   ]
  },
  {
   "cell_type": "markdown",
   "id": "6f89aa2e-8ed9-403e-bc79-1f22b4536a55",
   "metadata": {},
   "source": [
    "QUESTION 3"
   ]
  },
  {
   "cell_type": "code",
   "execution_count": 2,
   "id": "559f81f5-08dc-473c-8281-de4b55b4e3d7",
   "metadata": {},
   "outputs": [],
   "source": [
    "documents = [{'text': \"Yes, even if you don't register, you're still eligible to submit the homeworks.\\nBe aware, however, that there will be deadlines for turning in the final projects. So don't leave everything for the last minute.\",\n",
    "  'section': 'General course-related questions',\n",
    "  'question': 'Course - Can I still join the course after the start date?',\n",
    "  'course': 'data-engineering-zoomcamp'},\n",
    " {'text': 'Yes, we will keep all the materials after the course finishes, so you can follow the course at your own pace after it finishes.\\nYou can also continue looking at the homeworks and continue preparing for the next cohort. I guess you can also start working on your final capstone project.',\n",
    "  'section': 'General course-related questions',\n",
    "  'question': 'Course - Can I follow the course after it finishes?',\n",
    "  'course': 'data-engineering-zoomcamp'},\n",
    " {'text': \"The purpose of this document is to capture frequently asked technical questions\\nThe exact day and hour of the course will be 15th Jan 2024 at 17h00. The course will start with the first  “Office Hours'' live.1\\nSubscribe to course public Google Calendar (it works from Desktop only).\\nRegister before the course starts using this link.\\nJoin the course Telegram channel with announcements.\\nDon’t forget to register in DataTalks.Club's Slack and join the channel.\",\n",
    "  'section': 'General course-related questions',\n",
    "  'question': 'Course - When will the course start?',\n",
    "  'course': 'data-engineering-zoomcamp'},\n",
    " {'text': 'You can start by installing and setting up all the dependencies and requirements:\\nGoogle cloud account\\nGoogle Cloud SDK\\nPython 3 (installed with Anaconda)\\nTerraform\\nGit\\nLook over the prerequisites and syllabus to see if you are comfortable with these subjects.',\n",
    "  'section': 'General course-related questions',\n",
    "  'question': 'Course - What can I do before the course starts?',\n",
    "  'course': 'data-engineering-zoomcamp'},\n",
    " {'text': 'Star the repo! Share it with friends if you find it useful ❣️\\nCreate a PR if you see you can improve the text or the structure of the repository.',\n",
    "  'section': 'General course-related questions',\n",
    "  'question': 'How can we contribute to the course?',\n",
    "  'course': 'data-engineering-zoomcamp'}]"
   ]
  },
  {
   "cell_type": "code",
   "execution_count": 3,
   "id": "9e4c3110-cb6e-4995-9046-1471c725d899",
   "metadata": {},
   "outputs": [
    {
     "data": {
      "text/plain": [
       "{'text': \"Yes, even if you don't register, you're still eligible to submit the homeworks.\\nBe aware, however, that there will be deadlines for turning in the final projects. So don't leave everything for the last minute.\",\n",
       " 'section': 'General course-related questions',\n",
       " 'question': 'Course - Can I still join the course after the start date?',\n",
       " 'course': 'data-engineering-zoomcamp'}"
      ]
     },
     "execution_count": 3,
     "metadata": {},
     "output_type": "execute_result"
    }
   ],
   "source": [
    "documents[0]"
   ]
  },
  {
   "cell_type": "code",
   "execution_count": 4,
   "id": "876d50d5-4a16-49b2-93ed-8d5c1e6e5365",
   "metadata": {},
   "outputs": [
    {
     "name": "stderr",
     "output_type": "stream",
     "text": [
      "\u001b[32m2025-06-26 17:46:08.339\u001b[0m | \u001b[33m\u001b[1mWARNING \u001b[0m | \u001b[36mfastembed.embedding\u001b[0m:\u001b[36m<module>\u001b[0m:\u001b[36m7\u001b[0m - \u001b[33m\u001b[1mDefaultEmbedding, FlagEmbedding, JinaEmbedding are deprecated.Use from fastembed import TextEmbedding instead.\u001b[0m\n"
     ]
    },
    {
     "name": "stdout",
     "output_type": "stream",
     "text": [
      "Most similar document index: 1\n"
     ]
    }
   ],
   "source": [
    "from fastembed.embedding import TextEmbedding\n",
    "import numpy as np\n",
    "\n",
    "# Load the model\n",
    "embedder = TextEmbedding(model_name=\"jinaai/jina-embeddings-v2-small-en\")\n",
    "\n",
    "# Extract document texts\n",
    "doc_texts = [doc[\"text\"] for doc in documents]\n",
    "\n",
    "# Get document embeddings and stack into matrix V (shape: 5 x 512)\n",
    "V = np.vstack([np.array(emb) for emb in embedder.embed(doc_texts)])\n",
    "\n",
    "# Get the query embedding\n",
    "query_vec = np.array(list(embedder.embed([\"I just discovered the course. Can I join now?\"]))[0])\n",
    "\n",
    "# Normalize embeddings\n",
    "V_norm = V / np.linalg.norm(V, axis=1, keepdims=True)\n",
    "query_norm = query_vec / np.linalg.norm(query_vec)\n",
    "\n",
    "# Compute cosine similarities using dot product\n",
    "cos_similarities = V_norm @ query_norm\n",
    "\n",
    "# Get the most similar index\n",
    "most_similar_index = int(np.argmax(cos_similarities))\n",
    "print(\"Most similar document index:\", most_similar_index)\n"
   ]
  },
  {
   "cell_type": "markdown",
   "id": "38a8069b-83f4-4185-95fe-fa4a0b377837",
   "metadata": {},
   "source": [
    "QUESTION 4"
   ]
  },
  {
   "cell_type": "code",
   "execution_count": 6,
   "id": "a944b998-ba84-4605-85dc-b6d886c49af7",
   "metadata": {},
   "outputs": [
    {
     "name": "stdout",
     "output_type": "stream",
     "text": [
      "Most similar document index (Q4): 0\n"
     ]
    }
   ],
   "source": [
    "# Step 1: Create full_text field by concatenating question + text\n",
    "full_texts = [doc['question'] + ' ' + doc['text'] for doc in documents]\n",
    "\n",
    "# Step 2: Embed all full_text fields\n",
    "full_embeddings = np.vstack([np.array(emb) for emb in embedder.embed(full_texts)])\n",
    "\n",
    "# Step 3: Normalize\n",
    "full_embeddings_norm = full_embeddings / np.linalg.norm(full_embeddings, axis=1, keepdims=True)\n",
    "query_norm = query_vec / np.linalg.norm(query_vec)\n",
    "\n",
    "# Step 4: Cosine similarities\n",
    "cosine_similarities = full_embeddings_norm @ query_norm\n",
    "\n",
    "# Step 5: Find most similar index\n",
    "most_similar_index = int(np.argmax(cosine_similarities))\n",
    "print(\"Most similar document index (Q4):\", most_similar_index)\n"
   ]
  },
  {
   "cell_type": "markdown",
   "id": "69aefb7d-2ba1-4337-a8f6-6965944219c2",
   "metadata": {},
   "source": [
    "QUESTION 5"
   ]
  },
  {
   "cell_type": "code",
   "execution_count": 7,
   "id": "432d9374-c7c6-44f6-979d-eb63ae7e3147",
   "metadata": {},
   "outputs": [
    {
     "name": "stderr",
     "output_type": "stream",
     "text": [
      "Fetching 5 files:   0%|                                                                                          | 0/5 [00:00<?, ?it/s]C:\\Users\\HP\\Documents\\LLM_Zoomcamp project\\venv\\Lib\\site-packages\\huggingface_hub\\file_download.py:143: UserWarning: `huggingface_hub` cache-system uses symlinks by default to efficiently store duplicated files but your machine does not support them in C:\\Users\\HP\\AppData\\Local\\Temp\\fastembed_cache\\models--Qdrant--bge-small-en. Caching files will still work but in a degraded version that might require more space on your disk. This warning can be disabled by setting the `HF_HUB_DISABLE_SYMLINKS_WARNING` environment variable. For more details, see https://huggingface.co/docs/huggingface_hub/how-to-cache#limitations.\n",
      "To support symlinks on Windows, you either need to activate Developer Mode or to run Python as an administrator. In order to activate developer mode, see this article: https://docs.microsoft.com/en-us/windows/apps/get-started/enable-your-device-for-development\n",
      "  warnings.warn(message)\n",
      "Fetching 5 files: 100%|██████████████████████████████████████████████████████████████████████████████████| 5/5 [00:37<00:00,  7.55s/it]\n"
     ]
    },
    {
     "name": "stdout",
     "output_type": "stream",
     "text": [
      "Embedding dimensionality: 384\n",
      "Most similar document index: 0\n"
     ]
    }
   ],
   "source": [
    "\n",
    "# Step 1: Initialize the smaller embedding model\n",
    "embedder = TextEmbedding(model_name=\"BAAI/bge-small-en\")\n",
    "\n",
    "# Step 2: Create full_text field by concatenating question + text\n",
    "full_texts = [doc['question'] + ' ' + doc['text'] for doc in documents]\n",
    "\n",
    "# Step 3: Embed the documents\n",
    "doc_embeddings = np.vstack([np.array(emb) for emb in embedder.embed(full_texts)])\n",
    "\n",
    "# Step 4: Embed the query\n",
    "query = \"I just discovered the course. Can I join now?\"\n",
    "query_vec = np.array(list(embedder.embed([query]))[0])\n",
    "\n",
    "# Step 5: Normalize embeddings\n",
    "doc_embeddings_norm = doc_embeddings / np.linalg.norm(doc_embeddings, axis=1, keepdims=True)\n",
    "query_vec_norm = query_vec / np.linalg.norm(query_vec)\n",
    "\n",
    "# Step 6: Compute cosine similarities using matrix dot product\n",
    "cosine_similarities = doc_embeddings_norm @ query_vec_norm\n",
    "\n",
    "# Step 7: Find the most similar document index\n",
    "most_similar_index = int(np.argmax(cosine_similarities))\n",
    "\n",
    "# Step 8: Print results\n",
    "print(\"Embedding dimensionality:\", doc_embeddings.shape[1])  # Should print 384\n"
   ]
  },
  {
   "cell_type": "markdown",
   "id": "3de17ebe-7282-4e4e-a10f-0e6d417688a5",
   "metadata": {},
   "source": [
    "QUESTION 6"
   ]
  },
  {
   "cell_type": "code",
   "execution_count": 9,
   "id": "a2a919e9-2b11-4574-8e00-3419255bb79a",
   "metadata": {},
   "outputs": [],
   "source": [
    "import requests \n",
    "\n",
    "docs_url = 'https://github.com/alexeygrigorev/llm-rag-workshop/raw/main/notebooks/documents.json'\n",
    "docs_response = requests.get(docs_url)\n",
    "documents_raw = docs_response.json()\n",
    "\n",
    "\n",
    "documents = []\n",
    "\n",
    "for course in documents_raw:\n",
    "    course_name = course['course']\n",
    "    if course_name != 'machine-learning-zoomcamp':\n",
    "        continue\n",
    "\n",
    "    for doc in course['documents']:\n",
    "        doc['course'] = course_name\n",
    "        documents.append(doc)"
   ]
  },
  {
   "cell_type": "code",
   "execution_count": 10,
   "id": "cccafff1-242f-497d-a7aa-b6001a5642b3",
   "metadata": {},
   "outputs": [],
   "source": []
  },
  {
   "cell_type": "code",
   "execution_count": 13,
   "id": "4e77ae17-fc95-4828-a851-46ae494bb13e",
   "metadata": {},
   "outputs": [
    {
     "name": "stderr",
     "output_type": "stream",
     "text": [
      "C:\\Users\\HP\\AppData\\Local\\Temp\\ipykernel_3688\\1642240905.py:10: DeprecationWarning: `recreate_collection` method is deprecated and will be removed in the future. Use `collection_exists` to check collection existence and `create_collection` instead.\n",
      "  qdrant.recreate_collection(\n"
     ]
    },
    {
     "name": "stdout",
     "output_type": "stream",
     "text": [
      "Highest score from Qdrant search: 0.8703173344744922\n"
     ]
    },
    {
     "name": "stderr",
     "output_type": "stream",
     "text": [
      "C:\\Users\\HP\\AppData\\Local\\Temp\\ipykernel_3688\\1642240905.py:33: DeprecationWarning: `search` method is deprecated and will be removed in the future. Use `query_points` instead.\n",
      "  search_result = qdrant.search(\n"
     ]
    }
   ],
   "source": [
    "embedder = TextEmbedding(model_name=\"BAAI/bge-small-en\")\n",
    "\n",
    "qdrant = QdrantClient(\":memory:\")  \n",
    "collection_name = \"ml_zoomcamp_faq\"\n",
    "dim = 384 \n",
    "qdrant.recreate_collection(\n",
    "    collection_name=collection_name,\n",
    "    vectors_config=VectorParams(size=dim, distance=Distance.COSINE),\n",
    ")\n",
    "\n",
    "texts = [doc['question'] + ' ' + doc['text'] for doc in documents]\n",
    "vectors = [np.array(vec).tolist() for vec in embedder.embed(texts)]\n",
    "\n",
    "payloads = [{'text': text} for text in texts]\n",
    "\n",
    "points = [\n",
    "    PointStruct(id=i, vector=vectors[i], payload=payloads[i])\n",
    "    for i in range(len(vectors))\n",
    "]\n",
    "\n",
    "qdrant.upsert(collection_name=collection_name, points=points)\n",
    "\n",
    "query = \"I just discovered the course. Can I join now?\"\n",
    "query_vec = np.array(list(embedder.embed([query]))[0]).tolist()\n",
    "\n",
    "## Search in Qdrant\n",
    "search_result = qdrant.search(\n",
    "    collection_name=collection_name,\n",
    "    query_vector=query_vec,\n",
    "    limit=1,\n",
    ")\n",
    "\n",
    "top_score = search_result[0].score\n",
    "print(\"Highest score from Qdrant search:\", top_score)"
   ]
  },
  {
   "cell_type": "code",
   "execution_count": 2,
   "id": "c7f19f43-0264-4bc7-82cb-9a5b17bf45f4",
   "metadata": {},
   "outputs": [],
   "source": [
    "\n",
    "client = Groq(api_key=os.getenv(\"GROQ_API_KEY\"))\n"
   ]
  },
  {
   "cell_type": "code",
   "execution_count": 17,
   "id": "3459d9a8-72b0-4356-ad6c-d5e9154916a4",
   "metadata": {},
   "outputs": [],
   "source": []
  }
 ],
 "metadata": {
  "kernelspec": {
   "display_name": "Python 3 (ipykernel)",
   "language": "python",
   "name": "python3"
  },
  "language_info": {
   "codemirror_mode": {
    "name": "ipython",
    "version": 3
   },
   "file_extension": ".py",
   "mimetype": "text/x-python",
   "name": "python",
   "nbconvert_exporter": "python",
   "pygments_lexer": "ipython3",
   "version": "3.12.2"
  }
 },
 "nbformat": 4,
 "nbformat_minor": 5
}

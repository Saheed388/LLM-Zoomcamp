{
 "cells": [
  {
   "cell_type": "code",
   "execution_count": 1,
   "id": "fffa5a21-db4c-4341-aa2f-ecb7ab97ac39",
   "metadata": {},
   "outputs": [
    {
     "name": "stderr",
     "output_type": "stream",
     "text": [
      "C:\\Users\\HP\\Documents\\LLM_Zoomcamp project\\venv\\Lib\\site-packages\\tqdm\\auto.py:21: TqdmWarning: IProgress not found. Please update jupyter and ipywidgets. See https://ipywidgets.readthedocs.io/en/stable/user_install.html\n",
      "  from .autonotebook import tqdm as notebook_tqdm\n"
     ]
    }
   ],
   "source": [
    "from qdrant_client import QdrantClient, models\n",
    "import minsearch\n",
    "from groq import Groq\n",
    "import json\n",
    "import os\n"
   ]
  },
  {
   "cell_type": "code",
   "execution_count": 5,
   "id": "559f81f5-08dc-473c-8281-de4b55b4e3d7",
   "metadata": {},
   "outputs": [],
   "source": [
    "import requests\n",
    "\n",
    "# Use the raw content URL from GitHub\n",
    "docs_url = 'https://raw.githubusercontent.com/Saheed388/llm-rag-workshop/main/notebooks/documents.json'\n",
    "\n",
    "docs_response = requests.get(docs_url)\n",
    "documents_raw = docs_response.json()\n",
    "\n",
    "documents = []\n",
    "\n",
    "for course in documents_raw:\n",
    "    course_name = course['course']\n",
    "\n",
    "    for doc in course['documents']:\n",
    "        doc['course'] = course_name\n",
    "        documents.append(doc)"
   ]
  },
  {
   "cell_type": "code",
   "execution_count": 6,
   "id": "876d50d5-4a16-49b2-93ed-8d5c1e6e5365",
   "metadata": {},
   "outputs": [
    {
     "data": {
      "text/plain": [
       "<minsearch.Index at 0x2104c3fec30>"
      ]
     },
     "execution_count": 6,
     "metadata": {},
     "output_type": "execute_result"
    }
   ],
   "source": [
    "import minsearch\n",
    "\n",
    "index = minsearch.Index(\n",
    "    text_fields=[\"question\", \"text\", \"section\"],\n",
    "    keyword_fields=[\"course\"]\n",
    ")\n",
    "\n",
    "index.fit(documents)"
   ]
  },
  {
   "cell_type": "code",
   "execution_count": 2,
   "id": "c7f19f43-0264-4bc7-82cb-9a5b17bf45f4",
   "metadata": {},
   "outputs": [],
   "source": [
    "\n",
    "client = Groq(api_key=os.getenv(\"GROQ_API_KEY\"))\n"
   ]
  },
  {
   "cell_type": "code",
   "execution_count": 7,
   "id": "8567fc02-eb9d-42f7-8009-44461d5f16ab",
   "metadata": {},
   "outputs": [],
   "source": [
    "def search(query):\n",
    "    boost = {'question': 3.0, 'section': 0.5}\n",
    "\n",
    "    results = index.search(\n",
    "        query=query,\n",
    "        filter_dict={'course': 'data-engineering-zoomcamp'},\n",
    "        boost_dict=boost,\n",
    "        num_results=5\n",
    "    )\n",
    "\n",
    "    return results\n"
   ]
  },
  {
   "cell_type": "code",
   "execution_count": 8,
   "id": "ba7d0688-ee10-40cc-be23-e9de4c6159d1",
   "metadata": {},
   "outputs": [],
   "source": [
    "def build_prompt(query, search_results):\n",
    "    prompt_template = \"\"\"\n",
    "You're a course teaching assistant. Answer the QUESTION based on the CONTEXT from the FAQ database.\n",
    "Use only the facts from the CONTEXT when answering the QUESTION.\n",
    "\n",
    "QUESTION: {question}\n",
    "\n",
    "CONTEXT: \n",
    "{context}\n",
    "\"\"\".strip()\n",
    "\n",
    "    context = \"\"\n",
    "    \n",
    "    for doc in search_results:\n",
    "        context = context + f\"section: {doc['section']}\\nquestion: {doc['question']}\\nanswer: {doc['text']}\\n\\n\"\n",
    "    \n",
    "    prompt = prompt_template.format(question=query, context=context).strip()\n",
    "    return prompt"
   ]
  },
  {
   "cell_type": "code",
   "execution_count": 12,
   "id": "e3a0448f-ba56-4c2f-b5de-b0e50322005d",
   "metadata": {},
   "outputs": [],
   "source": [
    "def llm(prompt):\n",
    "\n",
    "    response = client.chat.completions.create(\n",
    "    model = \"llama-3.3-70b-versatile\",\n",
    "    messages=[{\"role\": \"user\", \"content\": prompt}]\n",
    "    )\n",
    "    print(response.choices[0].message.content)\n"
   ]
  },
  {
   "cell_type": "code",
   "execution_count": 13,
   "id": "ce3166c5-8cbb-497f-94d0-64ab03dac832",
   "metadata": {},
   "outputs": [],
   "source": [
    "def rag(query):\n",
    "    search_results = search(query)\n",
    "    prompt = build_prompt(query, search_results)\n",
    "    answer = llm(prompt)\n",
    "    return answer"
   ]
  },
  {
   "cell_type": "code",
   "execution_count": 14,
   "id": "7b8b6c31-1395-4188-967d-c0b2f780fbef",
   "metadata": {
    "scrolled": true
   },
   "outputs": [
    {
     "name": "stdout",
     "output_type": "stream",
     "text": [
      "To run Kafka, follow these steps based on the provided context:\n",
      "\n",
      "**For Java Kafka:**\n",
      "1. Go to the project directory.\n",
      "2. Run the command: `java -cp build/libs/<jar_name>-1.0-SNAPSHOT.jar:out src/main/java/org/example/JsonProducer.java`\n",
      "\n",
      "**For Python Kafka:**\n",
      "1. Create a virtual environment by running: `python -m venv env`\n",
      "2. Activate the virtual environment: \n",
      "   - For MacOS and Linux, run: `source env/bin/activate`\n",
      "   - For Windows, run: `env\\Scripts\\activate`\n",
      "3. Install the required packages: `pip install -r ../requirements.txt`\n",
      "4. Ensure Docker images are up and running before executing the Python file.\n",
      "\n",
      "Note: If you encounter a permission denied error while running `build.sh`, use the command `chmod +x build.sh` to grant execution permission. Additionally, if you're using Python Kafka, consider installing `kafka-python-ng` instead of `kafka-python` to avoid potential issues.\n"
     ]
    }
   ],
   "source": [
    "rag('how do I run kafka?')\n"
   ]
  },
  {
   "cell_type": "code",
   "execution_count": 15,
   "id": "5c74f949-23e9-4d62-b996-482f5361f7d9",
   "metadata": {},
   "outputs": [
    {
     "name": "stdout",
     "output_type": "stream",
     "text": [
      "Yes, you can still enroll in the course even after it has started. According to the FAQ, \"even if you don't register, you're still eligible to submit the homeworks.\" However, be aware that there will be deadlines for turning in the final projects, so it's recommended not to leave everything for the last minute.\n"
     ]
    }
   ],
   "source": [
    "rag('the course has already started, can I still enroll?')\n"
   ]
  },
  {
   "cell_type": "markdown",
   "id": "48a125b4-d875-41aa-8e7f-0aa170153c15",
   "metadata": {},
   "source": [
    "RAG WITH VECTOR SEARCH"
   ]
  },
  {
   "cell_type": "code",
   "execution_count": 16,
   "id": "94e58c04-93cf-48ef-8682-d3d66d7b1417",
   "metadata": {},
   "outputs": [],
   "source": [
    "qds_client = QdrantClient(\"http://localhost:6333\")"
   ]
  },
  {
   "cell_type": "code",
   "execution_count": 17,
   "id": "d146dd30-9e6d-4196-ad2e-47a73ef770ac",
   "metadata": {},
   "outputs": [],
   "source": [
    "EMBEDDING_DIMENSIONALITY = 512\n",
    "model_handle = \"jinaai/jina-embeddings-v2-small-en\""
   ]
  },
  {
   "cell_type": "code",
   "execution_count": 23,
   "id": "69c6eb10-d68b-46f7-85a4-db1fd5855bb7",
   "metadata": {},
   "outputs": [],
   "source": [
    "collection_name = \"zoomcamp-PRAC\"\n"
   ]
  },
  {
   "cell_type": "code",
   "execution_count": 10,
   "id": "fcda2c44-9e28-4560-afd1-28ddc21b4ae2",
   "metadata": {},
   "outputs": [
    {
     "data": {
      "text/plain": [
       "False"
      ]
     },
     "execution_count": 10,
     "metadata": {},
     "output_type": "execute_result"
    }
   ],
   "source": [
    "qds_client.delete_collection(collection_name=collection_name)\n"
   ]
  },
  {
   "cell_type": "code",
   "execution_count": 33,
   "id": "8758596d-8b64-432d-9233-c44cd568ed1c",
   "metadata": {
    "scrolled": true
   },
   "outputs": [],
   "source": [
    "qds_client.create_collection(\n",
    "    collection_name=collection_name,\n",
    "    vectors_config=models.VectorParams(\n",
    "        size=EMBEDDING_DIMENSIONALITY,\n",
    "        distance=models.Distance.COSINE\n",
    "    )\n",
    ")"
   ]
  },
  {
   "cell_type": "code",
   "execution_count": 25,
   "id": "476e9ce4-4750-4732-ac2e-49f247deb56c",
   "metadata": {},
   "outputs": [
    {
     "data": {
      "text/plain": [
       "UpdateResult(operation_id=1, status=<UpdateStatus.COMPLETED: 'completed'>)"
      ]
     },
     "execution_count": 25,
     "metadata": {},
     "output_type": "execute_result"
    }
   ],
   "source": [
    "qds_client.create_payload_index(\n",
    "    collection_name=collection_name,\n",
    "    field_name=\"course\",\n",
    "    field_schema=\"keyword\"\n",
    ")"
   ]
  },
  {
   "cell_type": "code",
   "execution_count": 17,
   "id": "3459d9a8-72b0-4356-ad6c-d5e9154916a4",
   "metadata": {},
   "outputs": [],
   "source": []
  },
  {
   "cell_type": "code",
   "execution_count": 26,
   "id": "6f15ea18-b348-4ea3-867e-3ce33f8499f2",
   "metadata": {},
   "outputs": [
    {
     "data": {
      "text/plain": [
       "{'text': \"Yes, even if you don't register, you're still eligible to submit the homeworks.\\nBe aware, however, that there will be deadlines for turning in the final projects. So don't leave everything for the last minute.\",\n",
       " 'section': 'General course-related questions',\n",
       " 'question': 'Course - Can I still join the course after the start date?',\n",
       " 'course': 'data-engineering-zoomcamp'}"
      ]
     },
     "execution_count": 26,
     "metadata": {},
     "output_type": "execute_result"
    }
   ],
   "source": [
    "documents[2]\n"
   ]
  },
  {
   "cell_type": "code",
   "execution_count": null,
   "id": "4088d992-f535-4464-baa7-79567e0233da",
   "metadata": {},
   "outputs": [],
   "source": []
  },
  {
   "cell_type": "code",
   "execution_count": 27,
   "id": "e72baa64-e832-4f0f-b0d0-7f958e60890d",
   "metadata": {},
   "outputs": [],
   "source": [
    "points = []\n",
    "\n",
    "for i, doc in enumerate(documents):\n",
    "    text = doc['question'] + ' ' + doc['text']\n",
    "    vector = models.Document(text=text, model=model_handle)\n",
    "    point = models.PointStruct(\n",
    "        id=i,\n",
    "        vector=vector,\n",
    "        payload=doc\n",
    "    )\n",
    "    points.append(point)"
   ]
  },
  {
   "cell_type": "code",
   "execution_count": 28,
   "id": "b60f97d7-2dca-4e91-af30-f46c6ff9aabf",
   "metadata": {},
   "outputs": [
    {
     "data": {
      "text/plain": [
       "UpdateResult(operation_id=2, status=<UpdateStatus.COMPLETED: 'completed'>)"
      ]
     },
     "execution_count": 28,
     "metadata": {},
     "output_type": "execute_result"
    }
   ],
   "source": [
    "qds_client.upsert(\n",
    "    collection_name=collection_name,\n",
    "    points=points\n",
    ")"
   ]
  },
  {
   "cell_type": "code",
   "execution_count": 33,
   "id": "71c46ad3-9f5d-4e8d-870f-5126c6eda7d2",
   "metadata": {},
   "outputs": [],
   "source": []
  },
  {
   "cell_type": "code",
   "execution_count": 29,
   "id": "31ea304f-81d8-44cc-bd72-2974407b2e61",
   "metadata": {},
   "outputs": [],
   "source": [
    "question = 'I just discovered the course. Can I still join it?'\n"
   ]
  },
  {
   "cell_type": "code",
   "execution_count": 30,
   "id": "17e31684-cb15-46b6-af48-7e1221715ea0",
   "metadata": {},
   "outputs": [],
   "source": [
    "def vector_search(question):\n",
    "    print('vector_search is used')\n",
    "    \n",
    "    course = 'data-engineering-zoomcamp'\n",
    "    query_points = qds_client.query_points(\n",
    "        collection_name=collection_name,\n",
    "        query=models.Document(\n",
    "            text=question,\n",
    "            model=model_handle \n",
    "        ),\n",
    "        query_filter=models.Filter( \n",
    "            must=[\n",
    "                models.FieldCondition(\n",
    "                    key=\"course\",\n",
    "                    match=models.MatchValue(value=course)\n",
    "                )\n",
    "            ]\n",
    "        ),\n",
    "        limit=5,\n",
    "        with_payload=True\n",
    "    )\n",
    "    \n",
    "    results = []\n",
    "    \n",
    "    for point in query_points.points:\n",
    "        results.append(point.payload)\n",
    "    \n",
    "    return results"
   ]
  },
  {
   "cell_type": "code",
   "execution_count": 31,
   "id": "ee0758d9-de25-4a32-b1a4-32e4b2d17f61",
   "metadata": {},
   "outputs": [],
   "source": [
    "def rag(query):\n",
    "    search_results = vector_search(query)\n",
    "    prompt = build_prompt(query, search_results)\n",
    "    answer = llm(prompt)\n",
    "    return answer"
   ]
  },
  {
   "cell_type": "code",
   "execution_count": 32,
   "id": "8f695c49-31d7-493b-b9b4-7aa36dde91d3",
   "metadata": {},
   "outputs": [
    {
     "name": "stdout",
     "output_type": "stream",
     "text": [
      "vector_search is used\n",
      "To run Kafka, you need to follow these steps based on the provided context:\n",
      "\n",
      "1. **For Java Kafka**: In the project directory, run the command: \n",
      "   `java -cp build/libs/<jar_name>-1.0-SNAPSHOT.jar:out src/main/java/org/example/JsonProducer.java`\n",
      "\n",
      "   Make sure to replace `<jar_name>` with your actual jar file name. Also, ensure that the `StreamsConfig.BOOTSTRAP_SERVERS_CONFIG` is set to the correct server URL in your scripts (e.g., `JsonConsumer.java`, `JsonProducer.java`) and that the cluster key and secrets are updated in `Secrets.java`.\n",
      "\n",
      "2. **For Python Kafka (producer.py)**: \n",
      "   - Create a virtual environment using `python -m venv env` (run only once).\n",
      "   - Activate the virtual environment using `source env/bin/activate` (for MacOS, Linux) or `env\\Scripts\\activate` (for Windows).\n",
      "   - Install packages using `pip install -r ../requirements.txt`.\n",
      "   - Run your python files within this activated environment.\n",
      "\n",
      "3. **If you encounter the `NoBrokersAvailable` error**, \n",
      "   - Check if your Kafka broker Docker container is running using `docker ps`.\n",
      "   - If not, start all instances using `docker compose up -d` in the Docker Compose YAML file folder.\n",
      "\n",
      "4. **For Windows-specific issues** (when running `seed-kafka` command or Python files):\n",
      "   - Use Git Bash terminal.\n",
      "   - Activate the Python virtual environment from Git Bash.\n",
      "   - Modify the `seed_kafka.py` file to replace `python3` with `python` if necessary.\n",
      "   - Run commands from Git Bash for consistency.\n"
     ]
    }
   ],
   "source": [
    "rag('how do I run kafka?')\n"
   ]
  },
  {
   "cell_type": "code",
   "execution_count": null,
   "id": "a06f3e61-666b-4f50-a3b0-523da4127cee",
   "metadata": {},
   "outputs": [],
   "source": []
  }
 ],
 "metadata": {
  "kernelspec": {
   "display_name": "Python 3 (ipykernel)",
   "language": "python",
   "name": "python3"
  },
  "language_info": {
   "codemirror_mode": {
    "name": "ipython",
    "version": 3
   },
   "file_extension": ".py",
   "mimetype": "text/x-python",
   "name": "python",
   "nbconvert_exporter": "python",
   "pygments_lexer": "ipython3",
   "version": "3.12.2"
  }
 },
 "nbformat": 4,
 "nbformat_minor": 5
}
